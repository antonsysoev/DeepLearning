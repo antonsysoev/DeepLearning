{
  "cells": [
    {
      "cell_type": "markdown",
      "metadata": {
        "id": "view-in-github",
        "colab_type": "text"
      },
      "source": [
        "<a href=\"https://colab.research.google.com/github/antonsysoev/DeepLearning/blob/main/Basic_deep_models.ipynb\" target=\"_parent\"><img src=\"https://colab.research.google.com/assets/colab-badge.svg\" alt=\"Open In Colab\"/></a>"
      ]
    },
    {
      "cell_type": "code",
      "execution_count": null,
      "metadata": {
        "id": "dK6hKZKJgfyX"
      },
      "outputs": [],
      "source": [
        "from keras.datasets import mnist\n",
        "(train_images, train_labels), (test_images, test_labels) = mnist.load_data()\n",
        "\n",
        "from keras import models\n",
        "from keras import layers\n",
        "\n",
        "import matplotlib.pyplot as plt\n",
        "\n",
        "from keras.utils import to_categorical\n",
        "\n",
        "import numpy as np"
      ]
    },
    {
      "cell_type": "code",
      "execution_count": null,
      "metadata": {
        "colab": {
          "base_uri": "https://localhost:8080/",
          "height": 265
        },
        "id": "-Y7yqkLgkG2F",
        "outputId": "4b135646-9cbc-4abe-b460-89e9cb7e9525"
      },
      "outputs": [
        {
          "output_type": "display_data",
          "data": {
            "text/plain": [
              "<Figure size 432x288 with 1 Axes>"
            ],
            "image/png": "[encoded data removed]"
          },
          "metadata": {
            "needs_background": "light"
          }
        }
      ],
      "source": [
        "digit = train_images[5]\n",
        "plt.imshow(digit, cmap=plt.cm.binary)\n",
        "plt.show()"
      ]
    },
    {
      "cell_type": "code",
      "source": [
        "train_images[5]"
      ],
      "metadata": {
        "colab": {
          "base_uri": "https://localhost:8080/"
        },
        "id": "GURlvKAUEiiX",
        "outputId": "28ae5a87-38b3-46c7-ec4b-f09f3f7426a1"
      },
      "execution_count": null,
      "outputs": [
        {
          "output_type": "execute_result",
          "data": {
            "text/plain": [
              "array([[  0,   0,   0,   0,   0,   0,   0,   0,   0,   0,   0,   0,   0,\n",
              "          0,   0,   0,   0,   0,   0,   0,   0,   0,   0,   0,   0,   0,\n",
              "          0,   0],\n",
              "       [  0,   0,   0,   0,   0,   0,   0,   0,   0,   0,   0,   0,   0,\n",
              "          0,   0,   0,   0,   0,   0,   0,   0,   0,   0,   0,   0,   0,\n",
              "          0,   0],\n",
              "       [  0,   0,   0,   0,   0,   0,   0,   0,   0,   0,   0,   0,   0,\n",
              "          0,   0,   0,   0,   0,   0,   0,   0,   0,   0,   0,   0,   0,\n",
              "          0,   0],\n",
              "       [  0,   0,   0,   0,   0,   0,   0,   0,   0,   0,   0,   0,   0,\n",
              "          0,   0,   0,   0,   0,   0,   0,   0,   0,   0,   0,   0,   0,\n",
              "          0,   0],\n",
              "       [  0,   0,   0,   0,   0,   0,   0,   0,   0,   0,   0,   0,   0,\n",
              "          0,   0,   0,   0,   0,   0,   0,   0,   0,   0,   0,   0,   0,\n",
              "          0,   0],\n",
              "       [  0,   0,   0,   0,   0,   0,   0,   0,   0,   0,   0,   0,   0,\n",
              "          0,   0,  13,  25, 100, 122,   7,   0,   0,   0,   0,   0,   0,\n",
              "          0,   0],\n",
              "       [  0,   0,   0,   0,   0,   0,   0,   0,   0,   0,   0,   0,   0,\n",
              "         33, 151, 208, 252, 252, 252, 146,   0,   0,   0,   0,   0,   0,\n",
              "          0,   0],\n",
              "       [  0,   0,   0,   0,   0,   0,   0,   0,   0,   0,   0,  40, 152,\n",
              "        244, 252, 253, 224, 211, 252, 232,  40,   0,   0,   0,   0,   0,\n",
              "          0,   0],\n",
              "       [  0,   0,   0,   0,   0,   0,   0,   0,   0,  15, 152, 239, 252,\n",
              "        252, 252, 216,  31,  37, 252, 252,  60,   0,   0,   0,   0,   0,\n",
              "          0,   0],\n",
              "       [  0,   0,   0,   0,   0,   0,   0,   0,   0,  96, 252, 252, 252,\n",
              "        252, 217,  29,   0,  37, 252, 252,  60,   0,   0,   0,   0,   0,\n",
              "          0,   0],\n",
              "       [  0,   0,   0,   0,   0,   0,   0,   0,   0, 181, 252, 252, 220,\n",
              "        167,  30,   0,   0,  77, 252, 252,  60,   0,   0,   0,   0,   0,\n",
              "          0,   0],\n",
              "       [  0,   0,   0,   0,   0,   0,   0,   0,   0,  26, 128,  58,  22,\n",
              "          0,   0,   0,   0, 100, 252, 252,  60,   0,   0,   0,   0,   0,\n",
              "          0,   0],\n",
              "       [  0,   0,   0,   0,   0,   0,   0,   0,   0,   0,   0,   0,   0,\n",
              "          0,   0,   0,   0, 157, 252, 252,  60,   0,   0,   0,   0,   0,\n",
              "          0,   0],\n",
              "       [  0,   0,   0,   0,   0,   0,   0,   0,   0,   0,   0,   0,   0,\n",
              "        110, 121, 122, 121, 202, 252, 194,   3,   0,   0,   0,   0,   0,\n",
              "          0,   0],\n",
              "       [  0,   0,   0,   0,   0,   0,   0,   0,   0,   0,  10,  53, 179,\n",
              "        253, 253, 255, 253, 253, 228,  35,   0,   0,   0,   0,   0,   0,\n",
              "          0,   0],\n",
              "       [  0,   0,   0,   0,   0,   0,   0,   0,   5,  54, 227, 252, 243,\n",
              "        228, 170, 242, 252, 252, 231, 117,   6,   0,   0,   0,   0,   0,\n",
              "          0,   0],\n",
              "       [  0,   0,   0,   0,   0,   0,   0,   6,  78, 252, 252, 125,  59,\n",
              "          0,  18, 208, 252, 252, 252, 252,  87,   7,   0,   0,   0,   0,\n",
              "          0,   0],\n",
              "       [  0,   0,   0,   0,   0,   0,   5, 135, 252, 252, 180,  16,   0,\n",
              "         21, 203, 253, 247, 129, 173, 252, 252, 184,  66,  49,  49,   0,\n",
              "          0,   0],\n",
              "       [  0,   0,   0,   0,   0,   3, 136, 252, 241, 106,  17,   0,  53,\n",
              "        200, 252, 216,  65,   0,  14,  72, 163, 241, 252, 252, 223,   0,\n",
              "          0,   0],\n",
              "       [  0,   0,   0,   0,   0, 105, 252, 242,  88,  18,  73, 170, 244,\n",
              "        252, 126,  29,   0,   0,   0,   0,   0,  89, 180, 180,  37,   0,\n",
              "          0,   0],\n",
              "       [  0,   0,   0,   0,   0, 231, 252, 245, 205, 216, 252, 252, 252,\n",
              "        124,   3,   0,   0,   0,   0,   0,   0,   0,   0,   0,   0,   0,\n",
              "          0,   0],\n",
              "       [  0,   0,   0,   0,   0, 207, 252, 252, 252, 252, 178, 116,  36,\n",
              "          4,   0,   0,   0,   0,   0,   0,   0,   0,   0,   0,   0,   0,\n",
              "          0,   0],\n",
              "       [  0,   0,   0,   0,   0,  13,  93, 143, 121,  23,   6,   0,   0,\n",
              "          0,   0,   0,   0,   0,   0,   0,   0,   0,   0,   0,   0,   0,\n",
              "          0,   0],\n",
              "       [  0,   0,   0,   0,   0,   0,   0,   0,   0,   0,   0,   0,   0,\n",
              "          0,   0,   0,   0,   0,   0,   0,   0,   0,   0,   0,   0,   0,\n",
              "          0,   0],\n",
              "       [  0,   0,   0,   0,   0,   0,   0,   0,   0,   0,   0,   0,   0,\n",
              "          0,   0,   0,   0,   0,   0,   0,   0,   0,   0,   0,   0,   0,\n",
              "          0,   0],\n",
              "       [  0,   0,   0,   0,   0,   0,   0,   0,   0,   0,   0,   0,   0,\n",
              "          0,   0,   0,   0,   0,   0,   0,   0,   0,   0,   0,   0,   0,\n",
              "          0,   0],\n",
              "       [  0,   0,   0,   0,   0,   0,   0,   0,   0,   0,   0,   0,   0,\n",
              "          0,   0,   0,   0,   0,   0,   0,   0,   0,   0,   0,   0,   0,\n",
              "          0,   0],\n",
              "       [  0,   0,   0,   0,   0,   0,   0,   0,   0,   0,   0,   0,   0,\n",
              "          0,   0,   0,   0,   0,   0,   0,   0,   0,   0,   0,   0,   0,\n",
              "          0,   0]], dtype=uint8)"
            ]
          },
          "metadata": {},
          "execution_count": 21
        }
      ]
    },
    {
      "cell_type": "code",
      "source": [
        "train_labels[5]"
      ],
      "metadata": {
        "colab": {
          "base_uri": "https://localhost:8080/"
        },
        "id": "FZ6lJR8aBXiF",
        "outputId": "4e19aa7c-2e9d-429e-de8e-e8d8b7bb348d"
      },
      "execution_count": null,
      "outputs": [
        {
          "output_type": "execute_result",
          "data": {
            "text/plain": [
              "2"
            ]
          },
          "metadata": {},
          "execution_count": 22
        }
      ]
    },
    {
      "cell_type": "code",
      "execution_count": null,
      "metadata": {
        "colab": {
          "base_uri": "https://localhost:8080/"
        },
        "id": "PnqulMqLgi5d",
        "outputId": "8dcd2918-320e-4fae-f540-5e0e5b04e8bc"
      },
      "outputs": [
        {
          "output_type": "execute_result",
          "data": {
            "text/plain": [
              "(60000, 28, 28)"
            ]
          },
          "metadata": {},
          "execution_count": 23
        }
      ],
      "source": [
        "train_images.shape"
      ]
    },
    {
      "cell_type": "code",
      "execution_count": null,
      "metadata": {
        "colab": {
          "base_uri": "https://localhost:8080/"
        },
        "id": "BVTErVkwgnfH",
        "outputId": "b9f37374-18c5-4f77-a126-1d0f9c5de6c4"
      },
      "outputs": [
        {
          "output_type": "execute_result",
          "data": {
            "text/plain": [
              "60000"
            ]
          },
          "metadata": {},
          "execution_count": 24
        }
      ],
      "source": [
        "len(train_labels)"
      ]
    },
    {
      "cell_type": "code",
      "execution_count": null,
      "metadata": {
        "colab": {
          "base_uri": "https://localhost:8080/"
        },
        "id": "GJAWB1uSgprU",
        "outputId": "0a7ec2ca-43b5-49c1-e441-140530163ccb"
      },
      "outputs": [
        {
          "output_type": "execute_result",
          "data": {
            "text/plain": [
              "array([5, 0, 4, ..., 5, 6, 8], dtype=uint8)"
            ]
          },
          "metadata": {},
          "execution_count": 25
        }
      ],
      "source": [
        "train_labels"
      ]
    },
    {
      "cell_type": "code",
      "execution_count": null,
      "metadata": {
        "colab": {
          "base_uri": "https://localhost:8080/"
        },
        "id": "c2-2ocnigrG9",
        "outputId": "ebaba131-56bf-4a19-c32a-803a2a9ca692"
      },
      "outputs": [
        {
          "output_type": "execute_result",
          "data": {
            "text/plain": [
              "(10000, 28, 28)"
            ]
          },
          "metadata": {},
          "execution_count": 26
        }
      ],
      "source": [
        "test_images.shape"
      ]
    },
    {
      "cell_type": "code",
      "execution_count": null,
      "metadata": {
        "colab": {
          "base_uri": "https://localhost:8080/"
        },
        "id": "gtpAF4nMgsjF",
        "outputId": "7768b5e7-1ff3-4253-cbc2-f4bb491575ed"
      },
      "outputs": [
        {
          "output_type": "execute_result",
          "data": {
            "text/plain": [
              "10000"
            ]
          },
          "metadata": {},
          "execution_count": 27
        }
      ],
      "source": [
        "len(test_labels)"
      ]
    },
    {
      "cell_type": "code",
      "execution_count": null,
      "metadata": {
        "colab": {
          "base_uri": "https://localhost:8080/"
        },
        "id": "RKLp7rqLgtrk",
        "outputId": "edd887ba-4c9f-4a54-fd49-aca6f273fea5"
      },
      "outputs": [
        {
          "output_type": "execute_result",
          "data": {
            "text/plain": [
              "array([7, 2, 1, ..., 4, 5, 6], dtype=uint8)"
            ]
          },
          "metadata": {},
          "execution_count": 28
        }
      ],
      "source": [
        "test_labels"
      ]
    },
    {
      "cell_type": "code",
      "execution_count": null,
      "metadata": {
        "id": "jJfQ2E3Vgx5u"
      },
      "outputs": [],
      "source": [
        "network = models.Sequential()\n",
        "network.add(layers.Dense(512, activation='relu', input_shape=(28 * 28,)))\n",
        "network.add(layers.Dense(10, activation='softmax'))"
      ]
    },
    {
      "cell_type": "code",
      "execution_count": null,
      "metadata": {
        "id": "Y_ZI-lEEgzxZ"
      },
      "outputs": [],
      "source": [
        "network.compile(optimizer='rmsprop',\n",
        "loss='categorical_crossentropy',\n",
        "metrics=['accuracy'])"
      ]
    },
    {
      "cell_type": "markdown",
      "metadata": {
        "id": "uEe_iKxmhQvO"
      },
      "source": [
        "Перед обучением мы выполним предварительную обработку данных, преобразовав их в форму, которую ожидает получить нейронная сеть, и масштабируем их так, чтобы все значения оказались в интервале [0, 1]. Исходные данные — обучающие изображения — хранятся в трехмерном массиве (60000, 28, 28) типа uint8, значениями в котором являются числа в интервале [0, 255]. Мы преобразуем его в массив (60000, 28 * 28) типа float32 со значениями в интервале [0, 1]."
      ]
    },
    {
      "cell_type": "code",
      "execution_count": null,
      "metadata": {
        "id": "_OjmhlbFg2SI"
      },
      "outputs": [],
      "source": [
        "train_images = train_images.reshape((60000, 28 * 28))\n",
        "train_images = train_images.astype('float32') / 255\n",
        "test_images = test_images.reshape((10000, 28 * 28))\n",
        "test_images = test_images.astype('float32') / 255"
      ]
    },
    {
      "cell_type": "code",
      "execution_count": null,
      "metadata": {
        "id": "GXiWSxVzg4o3"
      },
      "outputs": [],
      "source": [
        "train_labels = to_categorical(train_labels)\n",
        "test_labels = to_categorical(test_labels)"
      ]
    },
    {
      "cell_type": "code",
      "execution_count": null,
      "metadata": {
        "colab": {
          "base_uri": "https://localhost:8080/"
        },
        "id": "joiIetymg6sN",
        "outputId": "98b8f107-54a8-4122-a3ce-12fd0e7f3076"
      },
      "outputs": [
        {
          "output_type": "stream",
          "name": "stdout",
          "text": [
            "Epoch 1/5\n",
            "469/469 [==============================] - 12s 19ms/step - loss: 0.2560 - accuracy: 0.9247\n",
            "Epoch 2/5\n",
            "469/469 [==============================] - 10s 20ms/step - loss: 0.1042 - accuracy: 0.9697\n",
            "Epoch 3/5\n",
            "469/469 [==============================] - 5s 10ms/step - loss: 0.0692 - accuracy: 0.9790\n",
            "Epoch 4/5\n",
            "469/469 [==============================] - 6s 12ms/step - loss: 0.0495 - accuracy: 0.9851\n",
            "Epoch 5/5\n",
            "469/469 [==============================] - 4s 9ms/step - loss: 0.0371 - accuracy: 0.9888\n"
          ]
        },
        {
          "output_type": "execute_result",
          "data": {
            "text/plain": [
              "<keras.callbacks.History at 0x7f714ec09f40>"
            ]
          },
          "metadata": {},
          "execution_count": 33
        }
      ],
      "source": [
        "network.fit(train_images, train_labels, epochs=5, batch_size=128)"
      ]
    },
    {
      "cell_type": "code",
      "execution_count": null,
      "metadata": {
        "colab": {
          "base_uri": "https://localhost:8080/"
        },
        "id": "MQv5qTEwg88a",
        "outputId": "532f7ed5-9e83-4df4-8fb3-5adb6941feba"
      },
      "outputs": [
        {
          "output_type": "stream",
          "name": "stdout",
          "text": [
            "313/313 [==============================] - 1s 2ms/step - loss: 0.0684 - accuracy: 0.9797\n"
          ]
        }
      ],
      "source": [
        "test_loss, test_acc = network.evaluate(test_images, test_labels)"
      ]
    },
    {
      "cell_type": "code",
      "execution_count": null,
      "metadata": {
        "colab": {
          "base_uri": "https://localhost:8080/"
        },
        "id": "4xHDmapFg_tB",
        "outputId": "88917a1e-5e57-40b9-f026-d55ac5b77a99"
      },
      "outputs": [
        {
          "output_type": "stream",
          "name": "stdout",
          "text": [
            "test_acc: 0.9797000288963318\n"
          ]
        }
      ],
      "source": [
        "print('test_acc:', test_acc)"
      ]
    },
    {
      "cell_type": "code",
      "execution_count": null,
      "metadata": {
        "id": "efrCWKXhjyA4"
      },
      "outputs": [],
      "source": []
    },
    {
      "cell_type": "markdown",
      "metadata": {
        "id": "NCdi7LEIIPqA"
      },
      "source": [
        "Классификация по двум классам, или бинарная классификация, является едва ли не самой распространенной задачей машинного обучения. В этом примере посмотрим, как классифицировать отзывы к фильмам на положительные и отрицательные, опираясь на текст отзывов."
      ]
    },
    {
      "cell_type": "markdown",
      "metadata": {
        "id": "RwJpESnuIWQx"
      },
      "source": [
        "Набор данных IMDB: множество из 50 000 самых разных отзывов к кинолентам в интернет-базе фильмов (Internet Movie Database). Набор разбит на 25 000 обучающих и 25 000 контрольных отзывов, каждый набор на 50 % состоит из отрицательных и на 50 % из положительных отзывов."
      ]
    },
    {
      "cell_type": "code",
      "execution_count": null,
      "metadata": {
        "colab": {
          "base_uri": "https://localhost:8080/"
        },
        "id": "T84SdYqsIQRM",
        "outputId": "f6b53e1f-a862-4c13-d2d9-d9ba35586071"
      },
      "outputs": [
        {
          "output_type": "stream",
          "name": "stdout",
          "text": [
            "Downloading data from https://storage.googleapis.com/tensorflow/tf-keras-datasets/imdb.npz\n",
            "17464789/17464789 [==============================] - 0s 0us/step\n"
          ]
        }
      ],
      "source": [
        "from keras.datasets import imdb\n",
        "(train_data, train_labels), (test_data, test_labels) = imdb.load_data(\n",
        "    num_words=10000)"
      ]
    },
    {
      "cell_type": "code",
      "execution_count": null,
      "metadata": {
        "colab": {
          "base_uri": "https://localhost:8080/"
        },
        "id": "Gvorbeh_Idh5",
        "outputId": "a317a6bf-1da4-441f-e938-92937690e447"
      },
      "outputs": [
        {
          "output_type": "execute_result",
          "data": {
            "text/plain": [
              "[1,\n",
              " 194,\n",
              " 1153,\n",
              " 194,\n",
              " 8255,\n",
              " 78,\n",
              " 228,\n",
              " 5,\n",
              " 6,\n",
              " 1463,\n",
              " 4369,\n",
              " 5012,\n",
              " 134,\n",
              " 26,\n",
              " 4,\n",
              " 715,\n",
              " 8,\n",
              " 118,\n",
              " 1634,\n",
              " 14,\n",
              " 394,\n",
              " 20,\n",
              " 13,\n",
              " 119,\n",
              " 954,\n",
              " 189,\n",
              " 102,\n",
              " 5,\n",
              " 207,\n",
              " 110,\n",
              " 3103,\n",
              " 21,\n",
              " 14,\n",
              " 69,\n",
              " 188,\n",
              " 8,\n",
              " 30,\n",
              " 23,\n",
              " 7,\n",
              " 4,\n",
              " 249,\n",
              " 126,\n",
              " 93,\n",
              " 4,\n",
              " 114,\n",
              " 9,\n",
              " 2300,\n",
              " 1523,\n",
              " 5,\n",
              " 647,\n",
              " 4,\n",
              " 116,\n",
              " 9,\n",
              " 35,\n",
              " 8163,\n",
              " 4,\n",
              " 229,\n",
              " 9,\n",
              " 340,\n",
              " 1322,\n",
              " 4,\n",
              " 118,\n",
              " 9,\n",
              " 4,\n",
              " 130,\n",
              " 4901,\n",
              " 19,\n",
              " 4,\n",
              " 1002,\n",
              " 5,\n",
              " 89,\n",
              " 29,\n",
              " 952,\n",
              " 46,\n",
              " 37,\n",
              " 4,\n",
              " 455,\n",
              " 9,\n",
              " 45,\n",
              " 43,\n",
              " 38,\n",
              " 1543,\n",
              " 1905,\n",
              " 398,\n",
              " 4,\n",
              " 1649,\n",
              " 26,\n",
              " 6853,\n",
              " 5,\n",
              " 163,\n",
              " 11,\n",
              " 3215,\n",
              " 2,\n",
              " 4,\n",
              " 1153,\n",
              " 9,\n",
              " 194,\n",
              " 775,\n",
              " 7,\n",
              " 8255,\n",
              " 2,\n",
              " 349,\n",
              " 2637,\n",
              " 148,\n",
              " 605,\n",
              " 2,\n",
              " 8003,\n",
              " 15,\n",
              " 123,\n",
              " 125,\n",
              " 68,\n",
              " 2,\n",
              " 6853,\n",
              " 15,\n",
              " 349,\n",
              " 165,\n",
              " 4362,\n",
              " 98,\n",
              " 5,\n",
              " 4,\n",
              " 228,\n",
              " 9,\n",
              " 43,\n",
              " 2,\n",
              " 1157,\n",
              " 15,\n",
              " 299,\n",
              " 120,\n",
              " 5,\n",
              " 120,\n",
              " 174,\n",
              " 11,\n",
              " 220,\n",
              " 175,\n",
              " 136,\n",
              " 50,\n",
              " 9,\n",
              " 4373,\n",
              " 228,\n",
              " 8255,\n",
              " 5,\n",
              " 2,\n",
              " 656,\n",
              " 245,\n",
              " 2350,\n",
              " 5,\n",
              " 4,\n",
              " 9837,\n",
              " 131,\n",
              " 152,\n",
              " 491,\n",
              " 18,\n",
              " 2,\n",
              " 32,\n",
              " 7464,\n",
              " 1212,\n",
              " 14,\n",
              " 9,\n",
              " 6,\n",
              " 371,\n",
              " 78,\n",
              " 22,\n",
              " 625,\n",
              " 64,\n",
              " 1382,\n",
              " 9,\n",
              " 8,\n",
              " 168,\n",
              " 145,\n",
              " 23,\n",
              " 4,\n",
              " 1690,\n",
              " 15,\n",
              " 16,\n",
              " 4,\n",
              " 1355,\n",
              " 5,\n",
              " 28,\n",
              " 6,\n",
              " 52,\n",
              " 154,\n",
              " 462,\n",
              " 33,\n",
              " 89,\n",
              " 78,\n",
              " 285,\n",
              " 16,\n",
              " 145,\n",
              " 95]"
            ]
          },
          "metadata": {},
          "execution_count": 37
        }
      ],
      "source": [
        "train_data[1]"
      ]
    },
    {
      "cell_type": "code",
      "execution_count": null,
      "metadata": {
        "colab": {
          "base_uri": "https://localhost:8080/"
        },
        "id": "fhwNTFrkIgZx",
        "outputId": "301fbbb7-9c40-4dd0-8ec2-2a7d31075fc4"
      },
      "outputs": [
        {
          "output_type": "execute_result",
          "data": {
            "text/plain": [
              "1"
            ]
          },
          "metadata": {},
          "execution_count": 38
        }
      ],
      "source": [
        "train_labels[0]"
      ]
    },
    {
      "cell_type": "code",
      "execution_count": null,
      "metadata": {
        "colab": {
          "base_uri": "https://localhost:8080/"
        },
        "id": "vK1KzqqrIiOS",
        "outputId": "892e674d-ed85-42b9-b66d-1d1e8015aa93"
      },
      "outputs": [
        {
          "output_type": "stream",
          "name": "stdout",
          "text": [
            "Downloading data from https://storage.googleapis.com/tensorflow/tf-keras-datasets/imdb_word_index.json\n",
            "1641221/1641221 [==============================] - 0s 0us/step\n"
          ]
        }
      ],
      "source": [
        "word_index = imdb.get_word_index()\n",
        "reverse_word_index = dict(\n",
        "[(value, key) for (key, value) in word_index.items()])\n",
        "decoded_review = ' '.join(\n",
        "    [reverse_word_index.get(i - 3, '?') for i in train_data[0]])"
      ]
    },
    {
      "cell_type": "code",
      "execution_count": null,
      "metadata": {
        "colab": {
          "base_uri": "https://localhost:8080/"
        },
        "id": "_Ry6aW0dIw8s",
        "outputId": "9f936d2d-aad8-4565-8d96-05cf25a0a09d"
      },
      "outputs": [
        {
          "output_type": "execute_result",
          "data": {
            "text/plain": [
              "{34701: 'fawn',\n",
              " 52006: 'tsukino',\n",
              " 52007: 'nunnery',\n",
              " 16816: 'sonja',\n",
              " 63951: 'vani',\n",
              " 1408: 'woods',\n",
              " 16115: 'spiders',\n",
              " 2345: 'hanging',\n",
              " 2289: 'woody',\n",
              " 52008: 'trawling',\n",
              " 52009: \"hold's\",\n",
              " 11307: 'comically',\n",
              " 40830: 'localized',\n",
              " 30568: 'disobeying',\n",
              " 52010: \"'royale\",\n",
              " 40831: \"harpo's\",\n",
              " 52011: 'canet',\n",
              " 19313: 'aileen',\n",
              " 52012: 'acurately',\n",
              " 52013: \"diplomat's\",\n",
              " 25242: 'rickman',\n",
              " 6746: 'arranged',\n",
              " 52014: 'rumbustious',\n",
              " 52015: 'familiarness',\n",
              " 52016: \"spider'\",\n",
              " 68804: 'hahahah',\n",
              " 52017: \"wood'\",\n",
              " 40833: 'transvestism',\n",
              " 34702: \"hangin'\",\n",
              " 2338: 'bringing',\n",
              " 40834: 'seamier',\n",
              " 34703: 'wooded',\n",
              " 52018: 'bravora',\n",
              " 16817: 'grueling',\n",
              " 1636: 'wooden',\n",
              " 16818: 'wednesday',\n",
              " 52019: \"'prix\",\n",
              " 34704: 'altagracia',\n",
              " 52020: 'circuitry',\n",
              " 11585: 'crotch',\n",
              " 57766: 'busybody',\n",
              " 52021: \"tart'n'tangy\",\n",
              " 14129: 'burgade',\n",
              " 52023: 'thrace',\n",
              " 11038: \"tom's\",\n",
              " 52025: 'snuggles',\n",
              " 29114: 'francesco',\n",
              " 52027: 'complainers',\n",
              " 52125: 'templarios',\n",
              " 40835: '272',\n",
              " 52028: '273',\n",
              " 52130: 'zaniacs',\n",
              " 34706: '275',\n",
              " 27631: 'consenting',\n",
              " 40836: 'snuggled',\n",
              " 15492: 'inanimate',\n",
              " 52030: 'uality',\n",
              " 11926: 'bronte',\n",
              " 4010: 'errors',\n",
              " 3230: 'dialogs',\n",
              " 52031: \"yomada's\",\n",
              " 34707: \"madman's\",\n",
              " 30585: 'dialoge',\n",
              " 52033: 'usenet',\n",
              " 40837: 'videodrome',\n",
              " 26338: \"kid'\",\n",
              " 52034: 'pawed',\n",
              " 30569: \"'girlfriend'\",\n",
              " 52035: \"'pleasure\",\n",
              " 52036: \"'reloaded'\",\n",
              " 40839: \"kazakos'\",\n",
              " 52037: 'rocque',\n",
              " 52038: 'mailings',\n",
              " 11927: 'brainwashed',\n",
              " 16819: 'mcanally',\n",
              " 52039: \"tom''\",\n",
              " 25243: 'kurupt',\n",
              " 21905: 'affiliated',\n",
              " 52040: 'babaganoosh',\n",
              " 40840: \"noe's\",\n",
              " 40841: 'quart',\n",
              " 359: 'kids',\n",
              " 5034: 'uplifting',\n",
              " 7093: 'controversy',\n",
              " 21906: 'kida',\n",
              " 23379: 'kidd',\n",
              " 52041: \"error'\",\n",
              " 52042: 'neurologist',\n",
              " 18510: 'spotty',\n",
              " 30570: 'cobblers',\n",
              " 9878: 'projection',\n",
              " 40842: 'fastforwarding',\n",
              " 52043: 'sters',\n",
              " 52044: \"eggar's\",\n",
              " 52045: 'etherything',\n",
              " 40843: 'gateshead',\n",
              " 34708: 'airball',\n",
              " 25244: 'unsinkable',\n",
              " 7180: 'stern',\n",
              " 52046: \"cervi's\",\n",
              " 40844: 'dnd',\n",
              " 11586: 'dna',\n",
              " 20598: 'insecurity',\n",
              " 52047: \"'reboot'\",\n",
              " 11037: 'trelkovsky',\n",
              " 52048: 'jaekel',\n",
              " 52049: 'sidebars',\n",
              " 52050: \"sforza's\",\n",
              " 17633: 'distortions',\n",
              " 52051: 'mutinies',\n",
              " 30602: 'sermons',\n",
              " 40846: '7ft',\n",
              " 52052: 'boobage',\n",
              " 52053: \"o'bannon's\",\n",
              " 23380: 'populations',\n",
              " 52054: 'chulak',\n",
              " 27633: 'mesmerize',\n",
              " 52055: 'quinnell',\n",
              " 10307: 'yahoo',\n",
              " 52057: 'meteorologist',\n",
              " 42577: 'beswick',\n",
              " 15493: 'boorman',\n",
              " 40847: 'voicework',\n",
              " 52058: \"ster'\",\n",
              " 22922: 'blustering',\n",
              " 52059: 'hj',\n",
              " 27634: 'intake',\n",
              " 5621: 'morally',\n",
              " 40849: 'jumbling',\n",
              " 52060: 'bowersock',\n",
              " 52061: \"'porky's'\",\n",
              " 16821: 'gershon',\n",
              " 40850: 'ludicrosity',\n",
              " 52062: 'coprophilia',\n",
              " 40851: 'expressively',\n",
              " 19500: \"india's\",\n",
              " 34710: \"post's\",\n",
              " 52063: 'wana',\n",
              " 5283: 'wang',\n",
              " 30571: 'wand',\n",
              " 25245: 'wane',\n",
              " 52321: 'edgeways',\n",
              " 34711: 'titanium',\n",
              " 40852: 'pinta',\n",
              " 178: 'want',\n",
              " 30572: 'pinto',\n",
              " 52065: 'whoopdedoodles',\n",
              " 21908: 'tchaikovsky',\n",
              " 2103: 'travel',\n",
              " 52066: \"'victory'\",\n",
              " 11928: 'copious',\n",
              " 22433: 'gouge',\n",
              " 52067: \"chapters'\",\n",
              " 6702: 'barbra',\n",
              " 30573: 'uselessness',\n",
              " 52068: \"wan'\",\n",
              " 27635: 'assimilated',\n",
              " 16116: 'petiot',\n",
              " 52069: 'most\\x85and',\n",
              " 3930: 'dinosaurs',\n",
              " 352: 'wrong',\n",
              " 52070: 'seda',\n",
              " 52071: 'stollen',\n",
              " 34712: 'sentencing',\n",
              " 40853: 'ouroboros',\n",
              " 40854: 'assimilates',\n",
              " 40855: 'colorfully',\n",
              " 27636: 'glenne',\n",
              " 52072: 'dongen',\n",
              " 4760: 'subplots',\n",
              " 52073: 'kiloton',\n",
              " 23381: 'chandon',\n",
              " 34713: \"effect'\",\n",
              " 27637: 'snugly',\n",
              " 40856: 'kuei',\n",
              " 9092: 'welcomed',\n",
              " 30071: 'dishonor',\n",
              " 52075: 'concurrence',\n",
              " 23382: 'stoicism',\n",
              " 14896: \"guys'\",\n",
              " 52077: \"beroemd'\",\n",
              " 6703: 'butcher',\n",
              " 40857: \"melfi's\",\n",
              " 30623: 'aargh',\n",
              " 20599: 'playhouse',\n",
              " 11308: 'wickedly',\n",
              " 1180: 'fit',\n",
              " 52078: 'labratory',\n",
              " 40859: 'lifeline',\n",
              " 1927: 'screaming',\n",
              " 4287: 'fix',\n",
              " 52079: 'cineliterate',\n",
              " 52080: 'fic',\n",
              " 52081: 'fia',\n",
              " 34714: 'fig',\n",
              " 52082: 'fmvs',\n",
              " 52083: 'fie',\n",
              " 52084: 'reentered',\n",
              " 30574: 'fin',\n",
              " 52085: 'doctresses',\n",
              " 52086: 'fil',\n",
              " 12606: 'zucker',\n",
              " 31931: 'ached',\n",
              " 52088: 'counsil',\n",
              " 52089: 'paterfamilias',\n",
              " 13885: 'songwriter',\n",
              " 34715: 'shivam',\n",
              " 9654: 'hurting',\n",
              " 299: 'effects',\n",
              " 52090: 'slauther',\n",
              " 52091: \"'flame'\",\n",
              " 52092: 'sommerset',\n",
              " 52093: 'interwhined',\n",
              " 27638: 'whacking',\n",
              " 52094: 'bartok',\n",
              " 8775: 'barton',\n",
              " 21909: 'frewer',\n",
              " 52095: \"fi'\",\n",
              " 6192: 'ingrid',\n",
              " 30575: 'stribor',\n",
              " 52096: 'approporiately',\n",
              " 52097: 'wobblyhand',\n",
              " 52098: 'tantalisingly',\n",
              " 52099: 'ankylosaurus',\n",
              " 17634: 'parasites',\n",
              " 52100: 'childen',\n",
              " 52101: \"jenkins'\",\n",
              " 52102: 'metafiction',\n",
              " 17635: 'golem',\n",
              " 40860: 'indiscretion',\n",
              " 23383: \"reeves'\",\n",
              " 57781: \"inamorata's\",\n",
              " 52104: 'brittannica',\n",
              " 7916: 'adapt',\n",
              " 30576: \"russo's\",\n",
              " 48246: 'guitarists',\n",
              " 10553: 'abbott',\n",
              " 40861: 'abbots',\n",
              " 17649: 'lanisha',\n",
              " 40863: 'magickal',\n",
              " 52105: 'mattter',\n",
              " 52106: \"'willy\",\n",
              " 34716: 'pumpkins',\n",
              " 52107: 'stuntpeople',\n",
              " 30577: 'estimate',\n",
              " 40864: 'ugghhh',\n",
              " 11309: 'gameplay',\n",
              " 52108: \"wern't\",\n",
              " 40865: \"n'sync\",\n",
              " 16117: 'sickeningly',\n",
              " 40866: 'chiara',\n",
              " 4011: 'disturbed',\n",
              " 40867: 'portmanteau',\n",
              " 52109: 'ineffectively',\n",
              " 82143: \"duchonvey's\",\n",
              " 37519: \"nasty'\",\n",
              " 1285: 'purpose',\n",
              " 52112: 'lazers',\n",
              " 28105: 'lightened',\n",
              " 52113: 'kaliganj',\n",
              " 52114: 'popularism',\n",
              " 18511: \"damme's\",\n",
              " 30578: 'stylistics',\n",
              " 52115: 'mindgaming',\n",
              " 46449: 'spoilerish',\n",
              " 52117: \"'corny'\",\n",
              " 34718: 'boerner',\n",
              " 6792: 'olds',\n",
              " 52118: 'bakelite',\n",
              " 27639: 'renovated',\n",
              " 27640: 'forrester',\n",
              " 52119: \"lumiere's\",\n",
              " 52024: 'gaskets',\n",
              " 884: 'needed',\n",
              " 34719: 'smight',\n",
              " 1297: 'master',\n",
              " 25905: \"edie's\",\n",
              " 40868: 'seeber',\n",
              " 52120: 'hiya',\n",
              " 52121: 'fuzziness',\n",
              " 14897: 'genesis',\n",
              " 12607: 'rewards',\n",
              " 30579: 'enthrall',\n",
              " 40869: \"'about\",\n",
              " 52122: \"recollection's\",\n",
              " 11039: 'mutilated',\n",
              " 52123: 'fatherlands',\n",
              " 52124: \"fischer's\",\n",
              " 5399: 'positively',\n",
              " 34705: '270',\n",
              " 34720: 'ahmed',\n",
              " 9836: 'zatoichi',\n",
              " 13886: 'bannister',\n",
              " 52127: 'anniversaries',\n",
              " 30580: \"helm's\",\n",
              " 52128: \"'work'\",\n",
              " 34721: 'exclaimed',\n",
              " 52129: \"'unfunny'\",\n",
              " 52029: '274',\n",
              " 544: 'feeling',\n",
              " 52131: \"wanda's\",\n",
              " 33266: 'dolan',\n",
              " 52133: '278',\n",
              " 52134: 'peacoat',\n",
              " 40870: 'brawny',\n",
              " 40871: 'mishra',\n",
              " 40872: 'worlders',\n",
              " 52135: 'protags',\n",
              " 52136: 'skullcap',\n",
              " 57596: 'dastagir',\n",
              " 5622: 'affairs',\n",
              " 7799: 'wholesome',\n",
              " 52137: 'hymen',\n",
              " 25246: 'paramedics',\n",
              " 52138: 'unpersons',\n",
              " 52139: 'heavyarms',\n",
              " 52140: 'affaire',\n",
              " 52141: 'coulisses',\n",
              " 40873: 'hymer',\n",
              " 52142: 'kremlin',\n",
              " 30581: 'shipments',\n",
              " 52143: 'pixilated',\n",
              " 30582: \"'00s\",\n",
              " 18512: 'diminishing',\n",
              " 1357: 'cinematic',\n",
              " 14898: 'resonates',\n",
              " 40874: 'simplify',\n",
              " 40875: \"nature'\",\n",
              " 40876: 'temptresses',\n",
              " 16822: 'reverence',\n",
              " 19502: 'resonated',\n",
              " 34722: 'dailey',\n",
              " 52144: '2\\x85',\n",
              " 27641: 'treize',\n",
              " 52145: 'majo',\n",
              " 21910: 'kiya',\n",
              " 52146: 'woolnough',\n",
              " 39797: 'thanatos',\n",
              " 35731: 'sandoval',\n",
              " 40879: 'dorama',\n",
              " 52147: \"o'shaughnessy\",\n",
              " 4988: 'tech',\n",
              " 32018: 'fugitives',\n",
              " 30583: 'teck',\n",
              " 76125: \"'e'\",\n",
              " 40881: 'doesn’t',\n",
              " 52149: 'purged',\n",
              " 657: 'saying',\n",
              " 41095: \"martians'\",\n",
              " 23418: 'norliss',\n",
              " 27642: 'dickey',\n",
              " 52152: 'dicker',\n",
              " 52153: \"'sependipity\",\n",
              " 8422: 'padded',\n",
              " 57792: 'ordell',\n",
              " 40882: \"sturges'\",\n",
              " 52154: 'independentcritics',\n",
              " 5745: 'tempted',\n",
              " 34724: \"atkinson's\",\n",
              " 25247: 'hounded',\n",
              " 52155: 'apace',\n",
              " 15494: 'clicked',\n",
              " 30584: \"'humor'\",\n",
              " 17177: \"martino's\",\n",
              " 52156: \"'supporting\",\n",
              " 52032: 'warmongering',\n",
              " 34725: \"zemeckis's\",\n",
              " 21911: 'lube',\n",
              " 52157: 'shocky',\n",
              " 7476: 'plate',\n",
              " 40883: 'plata',\n",
              " 40884: 'sturgess',\n",
              " 40885: \"nerds'\",\n",
              " 20600: 'plato',\n",
              " 34726: 'plath',\n",
              " 40886: 'platt',\n",
              " 52159: 'mcnab',\n",
              " 27643: 'clumsiness',\n",
              " 3899: 'altogether',\n",
              " 42584: 'massacring',\n",
              " 52160: 'bicenntinial',\n",
              " 40887: 'skaal',\n",
              " 14360: 'droning',\n",
              " 8776: 'lds',\n",
              " 21912: 'jaguar',\n",
              " 34727: \"cale's\",\n",
              " 1777: 'nicely',\n",
              " 4588: 'mummy',\n",
              " 18513: \"lot's\",\n",
              " 10086: 'patch',\n",
              " 50202: 'kerkhof',\n",
              " 52161: \"leader's\",\n",
              " 27644: \"'movie\",\n",
              " 52162: 'uncomfirmed',\n",
              " 40888: 'heirloom',\n",
              " 47360: 'wrangle',\n",
              " 52163: 'emotion\\x85',\n",
              " 52164: \"'stargate'\",\n",
              " 40889: 'pinoy',\n",
              " 40890: 'conchatta',\n",
              " 41128: 'broeke',\n",
              " 40891: 'advisedly',\n",
              " 17636: \"barker's\",\n",
              " 52166: 'descours',\n",
              " 772: 'lots',\n",
              " 9259: 'lotr',\n",
              " 9879: 'irs',\n",
              " 52167: 'lott',\n",
              " 40892: 'xvi',\n",
              " 34728: 'irk',\n",
              " 52168: 'irl',\n",
              " 6887: 'ira',\n",
              " 21913: 'belzer',\n",
              " 52169: 'irc',\n",
              " 27645: 'ire',\n",
              " 40893: 'requisites',\n",
              " 7693: 'discipline',\n",
              " 52961: 'lyoko',\n",
              " 11310: 'extend',\n",
              " 873: 'nature',\n",
              " 52170: \"'dickie'\",\n",
              " 40894: 'optimist',\n",
              " 30586: 'lapping',\n",
              " 3900: 'superficial',\n",
              " 52171: 'vestment',\n",
              " 2823: 'extent',\n",
              " 52172: 'tendons',\n",
              " 52173: \"heller's\",\n",
              " 52174: 'quagmires',\n",
              " 52175: 'miyako',\n",
              " 20601: 'moocow',\n",
              " 52176: \"coles'\",\n",
              " 40895: 'lookit',\n",
              " 52177: 'ravenously',\n",
              " 40896: 'levitating',\n",
              " 52178: 'perfunctorily',\n",
              " 30587: 'lookin',\n",
              " 40898: \"lot'\",\n",
              " 52179: 'lookie',\n",
              " 34870: 'fearlessly',\n",
              " 52181: 'libyan',\n",
              " 40899: 'fondles',\n",
              " 35714: 'gopher',\n",
              " 40901: 'wearying',\n",
              " 52182: \"nz's\",\n",
              " 27646: 'minuses',\n",
              " 52183: 'puposelessly',\n",
              " 52184: 'shandling',\n",
              " 31268: 'decapitates',\n",
              " 11929: 'humming',\n",
              " 40902: \"'nother\",\n",
              " 21914: 'smackdown',\n",
              " 30588: 'underdone',\n",
              " 40903: 'frf',\n",
              " 52185: 'triviality',\n",
              " 25248: 'fro',\n",
              " 8777: 'bothers',\n",
              " 52186: \"'kensington\",\n",
              " 73: 'much',\n",
              " 34730: 'muco',\n",
              " 22615: 'wiseguy',\n",
              " 27648: \"richie's\",\n",
              " 40904: 'tonino',\n",
              " 52187: 'unleavened',\n",
              " 11587: 'fry',\n",
              " 40905: \"'tv'\",\n",
              " 40906: 'toning',\n",
              " 14361: 'obese',\n",
              " 30589: 'sensationalized',\n",
              " 40907: 'spiv',\n",
              " 6259: 'spit',\n",
              " 7364: 'arkin',\n",
              " 21915: 'charleton',\n",
              " 16823: 'jeon',\n",
              " 21916: 'boardroom',\n",
              " 4989: 'doubts',\n",
              " 3084: 'spin',\n",
              " 53083: 'hepo',\n",
              " 27649: 'wildcat',\n",
              " 10584: 'venoms',\n",
              " 52191: 'misconstrues',\n",
              " 18514: 'mesmerising',\n",
              " 40908: 'misconstrued',\n",
              " 52192: 'rescinds',\n",
              " 52193: 'prostrate',\n",
              " 40909: 'majid',\n",
              " 16479: 'climbed',\n",
              " 34731: 'canoeing',\n",
              " 52195: 'majin',\n",
              " 57804: 'animie',\n",
              " 40910: 'sylke',\n",
              " 14899: 'conditioned',\n",
              " 40911: 'waddell',\n",
              " 52196: '3\\x85',\n",
              " 41188: 'hyperdrive',\n",
              " 34732: 'conditioner',\n",
              " 53153: 'bricklayer',\n",
              " 2576: 'hong',\n",
              " 52198: 'memoriam',\n",
              " 30592: 'inventively',\n",
              " 25249: \"levant's\",\n",
              " 20638: 'portobello',\n",
              " 52200: 'remand',\n",
              " 19504: 'mummified',\n",
              " 27650: 'honk',\n",
              " 19505: 'spews',\n",
              " 40912: 'visitations',\n",
              " 52201: 'mummifies',\n",
              " 25250: 'cavanaugh',\n",
              " 23385: 'zeon',\n",
              " 40913: \"jungle's\",\n",
              " 34733: 'viertel',\n",
              " 27651: 'frenchmen',\n",
              " 52202: 'torpedoes',\n",
              " 52203: 'schlessinger',\n",
              " 34734: 'torpedoed',\n",
              " 69876: 'blister',\n",
              " 52204: 'cinefest',\n",
              " 34735: 'furlough',\n",
              " 52205: 'mainsequence',\n",
              " 40914: 'mentors',\n",
              " 9094: 'academic',\n",
              " 20602: 'stillness',\n",
              " 40915: 'academia',\n",
              " 52206: 'lonelier',\n",
              " 52207: 'nibby',\n",
              " 52208: \"losers'\",\n",
              " 40916: 'cineastes',\n",
              " 4449: 'corporate',\n",
              " 40917: 'massaging',\n",
              " 30593: 'bellow',\n",
              " 19506: 'absurdities',\n",
              " 53241: 'expetations',\n",
              " 40918: 'nyfiken',\n",
              " 75638: 'mehras',\n",
              " 52209: 'lasse',\n",
              " 52210: 'visability',\n",
              " 33946: 'militarily',\n",
              " 52211: \"elder'\",\n",
              " 19023: 'gainsbourg',\n",
              " 20603: 'hah',\n",
              " 13420: 'hai',\n",
              " 34736: 'haj',\n",
              " 25251: 'hak',\n",
              " 4311: 'hal',\n",
              " 4892: 'ham',\n",
              " 53259: 'duffer',\n",
              " 52213: 'haa',\n",
              " 66: 'had',\n",
              " 11930: 'advancement',\n",
              " 16825: 'hag',\n",
              " 25252: \"hand'\",\n",
              " 13421: 'hay',\n",
              " 20604: 'mcnamara',\n",
              " 52214: \"mozart's\",\n",
              " 30731: 'duffel',\n",
              " 30594: 'haq',\n",
              " 13887: 'har',\n",
              " 44: 'has',\n",
              " 2401: 'hat',\n",
              " 40919: 'hav',\n",
              " 30595: 'haw',\n",
              " 52215: 'figtings',\n",
              " 15495: 'elders',\n",
              " 52216: 'underpanted',\n",
              " 52217: 'pninson',\n",
              " 27652: 'unequivocally',\n",
              " 23673: \"barbara's\",\n",
              " 52219: \"bello'\",\n",
              " 12997: 'indicative',\n",
              " 40920: 'yawnfest',\n",
              " 52220: 'hexploitation',\n",
              " 52221: \"loder's\",\n",
              " 27653: 'sleuthing',\n",
              " 32622: \"justin's\",\n",
              " 52222: \"'ball\",\n",
              " 52223: \"'summer\",\n",
              " 34935: \"'demons'\",\n",
              " 52225: \"mormon's\",\n",
              " 34737: \"laughton's\",\n",
              " 52226: 'debell',\n",
              " 39724: 'shipyard',\n",
              " 30597: 'unabashedly',\n",
              " 40401: 'disks',\n",
              " 2290: 'crowd',\n",
              " 10087: 'crowe',\n",
              " 56434: \"vancouver's\",\n",
              " 34738: 'mosques',\n",
              " 6627: 'crown',\n",
              " 52227: 'culpas',\n",
              " 27654: 'crows',\n",
              " 53344: 'surrell',\n",
              " 52229: 'flowless',\n",
              " 52230: 'sheirk',\n",
              " 40923: \"'three\",\n",
              " 52231: \"peterson'\",\n",
              " 52232: 'ooverall',\n",
              " 40924: 'perchance',\n",
              " 1321: 'bottom',\n",
              " 53363: 'chabert',\n",
              " 52233: 'sneha',\n",
              " 13888: 'inhuman',\n",
              " 52234: 'ichii',\n",
              " 52235: 'ursla',\n",
              " 30598: 'completly',\n",
              " 40925: 'moviedom',\n",
              " 52236: 'raddick',\n",
              " 51995: 'brundage',\n",
              " 40926: 'brigades',\n",
              " 1181: 'starring',\n",
              " 52237: \"'goal'\",\n",
              " 52238: 'caskets',\n",
              " 52239: 'willcock',\n",
              " 52240: \"threesome's\",\n",
              " 52241: \"mosque'\",\n",
              " 52242: \"cover's\",\n",
              " 17637: 'spaceships',\n",
              " 40927: 'anomalous',\n",
              " 27655: 'ptsd',\n",
              " 52243: 'shirdan',\n",
              " 21962: 'obscenity',\n",
              " 30599: 'lemmings',\n",
              " 30600: 'duccio',\n",
              " 52244: \"levene's\",\n",
              " 52245: \"'gorby'\",\n",
              " 25255: \"teenager's\",\n",
              " 5340: 'marshall',\n",
              " 9095: 'honeymoon',\n",
              " 3231: 'shoots',\n",
              " 12258: 'despised',\n",
              " 52246: 'okabasho',\n",
              " 8289: 'fabric',\n",
              " 18515: 'cannavale',\n",
              " 3537: 'raped',\n",
              " 52247: \"tutt's\",\n",
              " 17638: 'grasping',\n",
              " 18516: 'despises',\n",
              " 40928: \"thief's\",\n",
              " 8926: 'rapes',\n",
              " 52248: 'raper',\n",
              " 27656: \"eyre'\",\n",
              " 52249: 'walchek',\n",
              " 23386: \"elmo's\",\n",
              " 40929: 'perfumes',\n",
              " 21918: 'spurting',\n",
              " 52250: \"exposition'\\x85\",\n",
              " 52251: 'denoting',\n",
              " 34740: 'thesaurus',\n",
              " 40930: \"shoot'\",\n",
              " 49759: 'bonejack',\n",
              " 52253: 'simpsonian',\n",
              " 30601: 'hebetude',\n",
              " 34741: \"hallow's\",\n",
              " 52254: 'desperation\\x85',\n",
              " 34742: 'incinerator',\n",
              " 10308: 'congratulations',\n",
              " 52255: 'humbled',\n",
              " 5924: \"else's\",\n",
              " 40845: 'trelkovski',\n",
              " 52256: \"rape'\",\n",
              " 59386: \"'chapters'\",\n",
              " 52257: '1600s',\n",
              " 7253: 'martian',\n",
              " 25256: 'nicest',\n",
              " 52259: 'eyred',\n",
              " 9457: 'passenger',\n",
              " 6041: 'disgrace',\n",
              " 52260: 'moderne',\n",
              " 5120: 'barrymore',\n",
              " 52261: 'yankovich',\n",
              " 40931: 'moderns',\n",
              " 52262: 'studliest',\n",
              " 52263: 'bedsheet',\n",
              " 14900: 'decapitation',\n",
              " 52264: 'slurring',\n",
              " 52265: \"'nunsploitation'\",\n",
              " 34743: \"'character'\",\n",
              " 9880: 'cambodia',\n",
              " 52266: 'rebelious',\n",
              " 27657: 'pasadena',\n",
              " 40932: 'crowne',\n",
              " 52267: \"'bedchamber\",\n",
              " 52268: 'conjectural',\n",
              " 52269: 'appologize',\n",
              " 52270: 'halfassing',\n",
              " 57816: 'paycheque',\n",
              " 20606: 'palms',\n",
              " 52271: \"'islands\",\n",
              " 40933: 'hawked',\n",
              " 21919: 'palme',\n",
              " 40934: 'conservatively',\n",
              " 64007: 'larp',\n",
              " 5558: 'palma',\n",
              " 21920: 'smelling',\n",
              " 12998: 'aragorn',\n",
              " 52272: 'hawker',\n",
              " 52273: 'hawkes',\n",
              " 3975: 'explosions',\n",
              " 8059: 'loren',\n",
              " 52274: \"pyle's\",\n",
              " 6704: 'shootout',\n",
              " 18517: \"mike's\",\n",
              " 52275: \"driscoll's\",\n",
              " 40935: 'cogsworth',\n",
              " 52276: \"britian's\",\n",
              " 34744: 'childs',\n",
              " 52277: \"portrait's\",\n",
              " 3626: 'chain',\n",
              " 2497: 'whoever',\n",
              " 52278: 'puttered',\n",
              " 52279: 'childe',\n",
              " 52280: 'maywether',\n",
              " 3036: 'chair',\n",
              " 52281: \"rance's\",\n",
              " 34745: 'machu',\n",
              " 4517: 'ballet',\n",
              " 34746: 'grapples',\n",
              " 76152: 'summerize',\n",
              " 30603: 'freelance',\n",
              " 52283: \"andrea's\",\n",
              " 52284: '\\x91very',\n",
              " 45879: 'coolidge',\n",
              " 18518: 'mache',\n",
              " 52285: 'balled',\n",
              " 40937: 'grappled',\n",
              " 18519: 'macha',\n",
              " 21921: 'underlining',\n",
              " 5623: 'macho',\n",
              " 19507: 'oversight',\n",
              " 25257: 'machi',\n",
              " 11311: 'verbally',\n",
              " 21922: 'tenacious',\n",
              " 40938: 'windshields',\n",
              " 18557: 'paychecks',\n",
              " 3396: 'jerk',\n",
              " 11931: \"good'\",\n",
              " 34748: 'prancer',\n",
              " 21923: 'prances',\n",
              " 52286: 'olympus',\n",
              " 21924: 'lark',\n",
              " 10785: 'embark',\n",
              " 7365: 'gloomy',\n",
              " 52287: 'jehaan',\n",
              " 52288: 'turaqui',\n",
              " 20607: \"child'\",\n",
              " 2894: 'locked',\n",
              " 52289: 'pranced',\n",
              " 2588: 'exact',\n",
              " 52290: 'unattuned',\n",
              " 783: 'minute',\n",
              " 16118: 'skewed',\n",
              " 40940: 'hodgins',\n",
              " 34749: 'skewer',\n",
              " 52291: 'think\\x85',\n",
              " 38765: 'rosenstein',\n",
              " 52292: 'helmit',\n",
              " 34750: 'wrestlemanias',\n",
              " 16826: 'hindered',\n",
              " 30604: \"martha's\",\n",
              " 52293: 'cheree',\n",
              " 52294: \"pluckin'\",\n",
              " 40941: 'ogles',\n",
              " 11932: 'heavyweight',\n",
              " 82190: 'aada',\n",
              " 11312: 'chopping',\n",
              " 61534: 'strongboy',\n",
              " 41342: 'hegemonic',\n",
              " 40942: 'adorns',\n",
              " 41346: 'xxth',\n",
              " 34751: 'nobuhiro',\n",
              " 52298: 'capitães',\n",
              " 52299: 'kavogianni',\n",
              " 13422: 'antwerp',\n",
              " 6538: 'celebrated',\n",
              " 52300: 'roarke',\n",
              " 40943: 'baggins',\n",
              " 31270: 'cheeseburgers',\n",
              " 52301: 'matras',\n",
              " 52302: \"nineties'\",\n",
              " 52303: \"'craig'\",\n",
              " 12999: 'celebrates',\n",
              " 3383: 'unintentionally',\n",
              " 14362: 'drafted',\n",
              " 52304: 'climby',\n",
              " 52305: '303',\n",
              " 18520: 'oldies',\n",
              " 9096: 'climbs',\n",
              " 9655: 'honour',\n",
              " 34752: 'plucking',\n",
              " 30074: '305',\n",
              " 5514: 'address',\n",
              " 40944: 'menjou',\n",
              " 42592: \"'freak'\",\n",
              " 19508: 'dwindling',\n",
              " 9458: 'benson',\n",
              " 52307: 'white’s',\n",
              " 40945: 'shamelessness',\n",
              " 21925: 'impacted',\n",
              " 52308: 'upatz',\n",
              " 3840: 'cusack',\n",
              " 37567: \"flavia's\",\n",
              " 52309: 'effette',\n",
              " 34753: 'influx',\n",
              " 52310: 'boooooooo',\n",
              " 52311: 'dimitrova',\n",
              " 13423: 'houseman',\n",
              " 25259: 'bigas',\n",
              " 52312: 'boylen',\n",
              " 52313: 'phillipenes',\n",
              " 40946: 'fakery',\n",
              " 27658: \"grandpa's\",\n",
              " 27659: 'darnell',\n",
              " 19509: 'undergone',\n",
              " 52315: 'handbags',\n",
              " 21926: 'perished',\n",
              " 37778: 'pooped',\n",
              " 27660: 'vigour',\n",
              " 3627: 'opposed',\n",
              " 52316: 'etude',\n",
              " 11799: \"caine's\",\n",
              " 52317: 'doozers',\n",
              " 34754: 'photojournals',\n",
              " 52318: 'perishes',\n",
              " 34755: 'constrains',\n",
              " 40948: 'migenes',\n",
              " 30605: 'consoled',\n",
              " 16827: 'alastair',\n",
              " 52319: 'wvs',\n",
              " 52320: 'ooooooh',\n",
              " 34756: 'approving',\n",
              " 40949: 'consoles',\n",
              " 52064: 'disparagement',\n",
              " 52322: 'futureistic',\n",
              " 52323: 'rebounding',\n",
              " 52324: \"'date\",\n",
              " 52325: 'gregoire',\n",
              " 21927: 'rutherford',\n",
              " 34757: 'americanised',\n",
              " 82196: 'novikov',\n",
              " 1042: 'following',\n",
              " 34758: 'munroe',\n",
              " 52326: \"morita'\",\n",
              " 52327: 'christenssen',\n",
              " 23106: 'oatmeal',\n",
              " 25260: 'fossey',\n",
              " 40950: 'livered',\n",
              " 13000: 'listens',\n",
              " 76164: \"'marci\",\n",
              " 52330: \"otis's\",\n",
              " 23387: 'thanking',\n",
              " 16019: 'maude',\n",
              " 34759: 'extensions',\n",
              " 52332: 'ameteurish',\n",
              " 52333: \"commender's\",\n",
              " 27661: 'agricultural',\n",
              " 4518: 'convincingly',\n",
              " 17639: 'fueled',\n",
              " 54014: 'mahattan',\n",
              " 40952: \"paris's\",\n",
              " 52336: 'vulkan',\n",
              " 52337: 'stapes',\n",
              " 52338: 'odysessy',\n",
              " 12259: 'harmon',\n",
              " 4252: 'surfing',\n",
              " 23494: 'halloran',\n",
              " 49580: 'unbelieveably',\n",
              " 52339: \"'offed'\",\n",
              " 30607: 'quadrant',\n",
              " 19510: 'inhabiting',\n",
              " 34760: 'nebbish',\n",
              " 40953: 'forebears',\n",
              " 34761: 'skirmish',\n",
              " 52340: 'ocassionally',\n",
              " 52341: \"'resist\",\n",
              " 21928: 'impactful',\n",
              " 52342: 'spicier',\n",
              " 40954: 'touristy',\n",
              " 52343: \"'football'\",\n",
              " 40955: 'webpage',\n",
              " 52345: 'exurbia',\n",
              " 52346: 'jucier',\n",
              " 14901: 'professors',\n",
              " 34762: 'structuring',\n",
              " 30608: 'jig',\n",
              " 40956: 'overlord',\n",
              " 25261: 'disconnect',\n",
              " 82201: 'sniffle',\n",
              " 40957: 'slimeball',\n",
              " 40958: 'jia',\n",
              " 16828: 'milked',\n",
              " 40959: 'banjoes',\n",
              " 1237: 'jim',\n",
              " 52348: 'workforces',\n",
              " 52349: 'jip',\n",
              " 52350: 'rotweiller',\n",
              " 34763: 'mundaneness',\n",
              " 52351: \"'ninja'\",\n",
              " 11040: \"dead'\",\n",
              " 40960: \"cipriani's\",\n",
              " 20608: 'modestly',\n",
              " 52352: \"professor'\",\n",
              " 40961: 'shacked',\n",
              " 34764: 'bashful',\n",
              " 23388: 'sorter',\n",
              " 16120: 'overpowering',\n",
              " 18521: 'workmanlike',\n",
              " 27662: 'henpecked',\n",
              " 18522: 'sorted',\n",
              " 52354: \"jōb's\",\n",
              " 52355: \"'always\",\n",
              " 34765: \"'baptists\",\n",
              " 52356: 'dreamcatchers',\n",
              " 52357: \"'silence'\",\n",
              " 21929: 'hickory',\n",
              " 52358: 'fun\\x97yet',\n",
              " 52359: 'breakumentary',\n",
              " 15496: 'didn',\n",
              " 52360: 'didi',\n",
              " 52361: 'pealing',\n",
              " 40962: 'dispite',\n",
              " 25262: \"italy's\",\n",
              " 21930: 'instability',\n",
              " 6539: 'quarter',\n",
              " 12608: 'quartet',\n",
              " 52362: 'padmé',\n",
              " 52363: \"'bleedmedry\",\n",
              " 52364: 'pahalniuk',\n",
              " 52365: 'honduras',\n",
              " 10786: 'bursting',\n",
              " 41465: \"pablo's\",\n",
              " 52367: 'irremediably',\n",
              " 40963: 'presages',\n",
              " 57832: 'bowlegged',\n",
              " 65183: 'dalip',\n",
              " 6260: 'entering',\n",
              " 76172: 'newsradio',\n",
              " 54150: 'presaged',\n",
              " 27663: \"giallo's\",\n",
              " 40964: 'bouyant',\n",
              " 52368: 'amerterish',\n",
              " 18523: 'rajni',\n",
              " 30610: 'leeves',\n",
              " 34767: 'macauley',\n",
              " 612: 'seriously',\n",
              " 52369: 'sugercoma',\n",
              " 52370: 'grimstead',\n",
              " 52371: \"'fairy'\",\n",
              " 30611: 'zenda',\n",
              " 52372: \"'twins'\",\n",
              " 17640: 'realisation',\n",
              " 27664: 'highsmith',\n",
              " 7817: 'raunchy',\n",
              " 40965: 'incentives',\n",
              " 52374: 'flatson',\n",
              " 35097: 'snooker',\n",
              " 16829: 'crazies',\n",
              " 14902: 'crazier',\n",
              " 7094: 'grandma',\n",
              " 52375: 'napunsaktha',\n",
              " 30612: 'workmanship',\n",
              " 52376: 'reisner',\n",
              " 61306: \"sanford's\",\n",
              " 52377: '\\x91doña',\n",
              " 6108: 'modest',\n",
              " 19153: \"everything's\",\n",
              " 40966: 'hamer',\n",
              " 52379: \"couldn't'\",\n",
              " 13001: 'quibble',\n",
              " 52380: 'socking',\n",
              " 21931: 'tingler',\n",
              " 52381: 'gutman',\n",
              " 40967: 'lachlan',\n",
              " 52382: 'tableaus',\n",
              " 52383: 'headbanger',\n",
              " 2847: 'spoken',\n",
              " 34768: 'cerebrally',\n",
              " 23490: \"'road\",\n",
              " 21932: 'tableaux',\n",
              " 40968: \"proust's\",\n",
              " 40969: 'periodical',\n",
              " 52385: \"shoveller's\",\n",
              " 25263: 'tamara',\n",
              " 17641: 'affords',\n",
              " 3249: 'concert',\n",
              " 87955: \"yara's\",\n",
              " 52386: 'someome',\n",
              " 8424: 'lingering',\n",
              " 41511: \"abraham's\",\n",
              " 34769: 'beesley',\n",
              " 34770: 'cherbourg',\n",
              " 28624: 'kagan',\n",
              " 9097: 'snatch',\n",
              " 9260: \"miyazaki's\",\n",
              " 25264: 'absorbs',\n",
              " 40970: \"koltai's\",\n",
              " 64027: 'tingled',\n",
              " 19511: 'crossroads',\n",
              " 16121: 'rehab',\n",
              " 52389: 'falworth',\n",
              " 52390: 'sequals',\n",
              " ...}"
            ]
          },
          "metadata": {},
          "execution_count": 40
        }
      ],
      "source": [
        "reverse_word_index"
      ]
    },
    {
      "cell_type": "code",
      "execution_count": null,
      "metadata": {
        "id": "jz7T5pSbIzvJ"
      },
      "outputs": [],
      "source": [
        "def vectorize_sequences(sequences, dimension=10000):\n",
        "    results = np.zeros((len(sequences), dimension))\n",
        "    for i, sequence in enumerate(sequences):\n",
        "      results[i, sequence] = 1.\n",
        "    return results"
      ]
    },
    {
      "cell_type": "code",
      "execution_count": null,
      "metadata": {
        "id": "NLrSJtWSI_9S"
      },
      "outputs": [],
      "source": [
        "x_train = vectorize_sequences(train_data)\n",
        "x_test = vectorize_sequences(test_data)"
      ]
    },
    {
      "cell_type": "code",
      "source": [
        "x_train[0]"
      ],
      "metadata": {
        "colab": {
          "base_uri": "https://localhost:8080/"
        },
        "id": "CZZhX9T6IoPR",
        "outputId": "b4287e7a-cb80-4e1e-c15e-c1e0ad7359d3"
      },
      "execution_count": null,
      "outputs": [
        {
          "output_type": "execute_result",
          "data": {
            "text/plain": [
              "array([0., 1., 1., ..., 0., 0., 0.])"
            ]
          },
          "metadata": {},
          "execution_count": 43
        }
      ]
    },
    {
      "cell_type": "code",
      "execution_count": null,
      "metadata": {
        "id": "1M565UKqJCVD"
      },
      "outputs": [],
      "source": [
        "y_train = np.asarray(train_labels).astype('float32')\n",
        "y_test = np.asarray(test_labels).astype('float32')"
      ]
    },
    {
      "cell_type": "code",
      "source": [
        "y_train[0]"
      ],
      "metadata": {
        "colab": {
          "base_uri": "https://localhost:8080/"
        },
        "id": "JenQqOuLI3MX",
        "outputId": "9492115d-f8a6-4d45-8f3b-1cafd3287708"
      },
      "execution_count": null,
      "outputs": [
        {
          "output_type": "execute_result",
          "data": {
            "text/plain": [
              "1.0"
            ]
          },
          "metadata": {},
          "execution_count": 45
        }
      ]
    },
    {
      "cell_type": "code",
      "execution_count": null,
      "metadata": {
        "id": "U70ojqhjJTfL"
      },
      "outputs": [],
      "source": [
        "model = models.Sequential()\n",
        "model.add(layers.Dense(16, activation='relu', input_shape=(10000,)))\n",
        "model.add(layers.Dense(16, activation='relu'))\n",
        "model.add(layers.Dense(25, activation='relu'))\n",
        "model.add(layers.Dense(1, activation='sigmoid'))"
      ]
    },
    {
      "cell_type": "code",
      "execution_count": null,
      "metadata": {
        "id": "IxQvC29cJVYE"
      },
      "outputs": [],
      "source": [
        "model.compile(optimizer='rmsprop',\n",
        "              loss='binary_crossentropy',\n",
        "              metrics=['accuracy'])"
      ]
    },
    {
      "cell_type": "code",
      "execution_count": null,
      "metadata": {
        "id": "XLEGFuFeJYU0"
      },
      "outputs": [],
      "source": [
        "x_val = x_train[:10000]\n",
        "partial_x_train = x_train[10000:]\n",
        "y_val = y_train[:10000]\n",
        "partial_y_train = y_train[10000:]"
      ]
    },
    {
      "cell_type": "code",
      "execution_count": null,
      "metadata": {
        "colab": {
          "base_uri": "https://localhost:8080/"
        },
        "id": "f--TSNdGJcyt",
        "outputId": "a8fe6d87-b406-475d-b51e-e18ac125d5c3"
      },
      "outputs": [
        {
          "output_type": "stream",
          "name": "stdout",
          "text": [
            "Epoch 1/30\n",
            "30/30 [==============================] - 4s 130ms/step - loss: 0.1072 - accuracy: 0.9666 - val_loss: 0.3129 - val_accuracy: 0.8847\n",
            "Epoch 2/30\n",
            "30/30 [==============================] - 1s 37ms/step - loss: 0.0855 - accuracy: 0.9739 - val_loss: 0.3928 - val_accuracy: 0.8669\n",
            "Epoch 3/30\n",
            "30/30 [==============================] - 1s 36ms/step - loss: 0.0753 - accuracy: 0.9763 - val_loss: 0.4022 - val_accuracy: 0.8758\n",
            "Epoch 4/30\n",
            "30/30 [==============================] - 1s 36ms/step - loss: 0.0562 - accuracy: 0.9845 - val_loss: 0.4078 - val_accuracy: 0.8781\n",
            "Epoch 5/30\n",
            "30/30 [==============================] - 1s 36ms/step - loss: 0.0409 - accuracy: 0.9889 - val_loss: 0.5665 - val_accuracy: 0.8466\n",
            "Epoch 6/30\n",
            "30/30 [==============================] - 1s 36ms/step - loss: 0.0352 - accuracy: 0.9899 - val_loss: 0.4773 - val_accuracy: 0.8751\n",
            "Epoch 7/30\n",
            "30/30 [==============================] - 1s 36ms/step - loss: 0.0277 - accuracy: 0.9928 - val_loss: 0.5211 - val_accuracy: 0.8755\n",
            "Epoch 8/30\n",
            "30/30 [==============================] - 1s 38ms/step - loss: 0.0212 - accuracy: 0.9956 - val_loss: 0.6297 - val_accuracy: 0.8518\n",
            "Epoch 9/30\n",
            "30/30 [==============================] - 1s 38ms/step - loss: 0.0108 - accuracy: 0.9991 - val_loss: 0.5831 - val_accuracy: 0.8684\n",
            "Epoch 10/30\n",
            "30/30 [==============================] - 1s 40ms/step - loss: 0.0204 - accuracy: 0.9949 - val_loss: 0.6165 - val_accuracy: 0.8705\n",
            "Epoch 11/30\n",
            "30/30 [==============================] - 2s 63ms/step - loss: 0.0053 - accuracy: 0.9997 - val_loss: 0.6579 - val_accuracy: 0.8700\n",
            "Epoch 12/30\n",
            "30/30 [==============================] - 2s 57ms/step - loss: 0.0193 - accuracy: 0.9951 - val_loss: 0.6921 - val_accuracy: 0.8695\n",
            "Epoch 13/30\n",
            "30/30 [==============================] - 1s 46ms/step - loss: 0.0030 - accuracy: 0.9998 - val_loss: 0.7232 - val_accuracy: 0.8682\n",
            "Epoch 14/30\n",
            "30/30 [==============================] - 1s 36ms/step - loss: 0.0187 - accuracy: 0.9947 - val_loss: 0.7703 - val_accuracy: 0.8652\n",
            "Epoch 15/30\n",
            "30/30 [==============================] - 1s 39ms/step - loss: 0.0015 - accuracy: 0.9999 - val_loss: 0.7897 - val_accuracy: 0.8647\n",
            "Epoch 16/30\n",
            "30/30 [==============================] - 1s 35ms/step - loss: 0.0012 - accuracy: 0.9999 - val_loss: 0.8500 - val_accuracy: 0.8655\n",
            "Epoch 17/30\n",
            "30/30 [==============================] - 1s 38ms/step - loss: 0.0173 - accuracy: 0.9954 - val_loss: 0.8975 - val_accuracy: 0.8633\n",
            "Epoch 18/30\n",
            "30/30 [==============================] - 1s 35ms/step - loss: 5.2239e-04 - accuracy: 1.0000 - val_loss: 0.9123 - val_accuracy: 0.8640\n",
            "Epoch 19/30\n",
            "30/30 [==============================] - 1s 38ms/step - loss: 4.3061e-04 - accuracy: 1.0000 - val_loss: 0.9426 - val_accuracy: 0.8631\n",
            "Epoch 20/30\n",
            "30/30 [==============================] - 1s 41ms/step - loss: 3.1911e-04 - accuracy: 1.0000 - val_loss: 1.0160 - val_accuracy: 0.8610\n",
            "Epoch 21/30\n",
            "30/30 [==============================] - 2s 52ms/step - loss: 0.0140 - accuracy: 0.9967 - val_loss: 1.1013 - val_accuracy: 0.8575\n",
            "Epoch 22/30\n",
            "30/30 [==============================] - 1s 43ms/step - loss: 1.6198e-04 - accuracy: 1.0000 - val_loss: 1.1051 - val_accuracy: 0.8597\n",
            "Epoch 23/30\n",
            "30/30 [==============================] - 1s 36ms/step - loss: 1.1122e-04 - accuracy: 1.0000 - val_loss: 1.1211 - val_accuracy: 0.8593\n",
            "Epoch 24/30\n",
            "30/30 [==============================] - 1s 36ms/step - loss: 8.7584e-05 - accuracy: 1.0000 - val_loss: 1.1595 - val_accuracy: 0.8590\n",
            "Epoch 25/30\n",
            "30/30 [==============================] - 1s 37ms/step - loss: 5.8676e-05 - accuracy: 1.0000 - val_loss: 1.2583 - val_accuracy: 0.8578\n",
            "Epoch 26/30\n",
            "30/30 [==============================] - 1s 36ms/step - loss: 0.0113 - accuracy: 0.9975 - val_loss: 1.3084 - val_accuracy: 0.8602\n",
            "Epoch 27/30\n",
            "30/30 [==============================] - 1s 37ms/step - loss: 2.4972e-05 - accuracy: 1.0000 - val_loss: 1.3215 - val_accuracy: 0.8602\n",
            "Epoch 28/30\n",
            "30/30 [==============================] - 1s 36ms/step - loss: 2.1687e-05 - accuracy: 1.0000 - val_loss: 1.3370 - val_accuracy: 0.8592\n",
            "Epoch 29/30\n",
            "30/30 [==============================] - 1s 36ms/step - loss: 1.9116e-05 - accuracy: 1.0000 - val_loss: 1.3618 - val_accuracy: 0.8588\n",
            "Epoch 30/30\n",
            "30/30 [==============================] - 1s 38ms/step - loss: 1.5144e-05 - accuracy: 1.0000 - val_loss: 1.4087 - val_accuracy: 0.8573\n"
          ]
        }
      ],
      "source": [
        "history = model.fit(partial_x_train,\n",
        "                    partial_y_train,\n",
        "                    epochs=30,\n",
        "                    batch_size=512,\n",
        "                    validation_data=(x_val, y_val))"
      ]
    },
    {
      "cell_type": "code",
      "execution_count": null,
      "metadata": {
        "id": "BkEIZXGOJeoZ"
      },
      "outputs": [],
      "source": [
        "history_dict = history.history"
      ]
    },
    {
      "cell_type": "code",
      "execution_count": null,
      "metadata": {
        "colab": {
          "base_uri": "https://localhost:8080/"
        },
        "id": "qtz6VLNuJkam",
        "outputId": "8aaf02db-207c-4df5-9ee5-6fb107451193"
      },
      "outputs": [
        {
          "output_type": "execute_result",
          "data": {
            "text/plain": [
              "dict_keys(['loss', 'accuracy', 'val_loss', 'val_accuracy'])"
            ]
          },
          "metadata": {},
          "execution_count": 60
        }
      ],
      "source": [
        "history_dict.keys()"
      ]
    },
    {
      "cell_type": "code",
      "execution_count": null,
      "metadata": {
        "colab": {
          "base_uri": "https://localhost:8080/",
          "height": 295
        },
        "id": "aEQPuc5EJloc",
        "outputId": "58b1ca13-5e1c-4a45-8e0d-7ac08a9e010e"
      },
      "outputs": [
        {
          "output_type": "display_data",
          "data": {
            "text/plain": [
              "<Figure size 432x288 with 1 Axes>"
            ],
            "image/png": "[encoded data removed]"
          },
          "metadata": {
            "needs_background": "light"
          }
        }
      ],
      "source": [
        "history_dict = history.history\n",
        "loss_values = history_dict['loss']\n",
        "val_loss_values = history_dict['val_loss']\n",
        "epochs = range(1, 31)\n",
        "\n",
        "\n",
        "plt.plot(epochs, loss_values, 'bo', label='Training loss')\n",
        "plt.plot(epochs, val_loss_values, 'b', label='Validation loss')\n",
        "plt.title('Training and validation loss')\n",
        "plt.xlabel('Epochs')\n",
        "plt.ylabel('Loss')\n",
        "plt.legend()\n",
        "plt.show()"
      ]
    },
    {
      "cell_type": "code",
      "execution_count": null,
      "metadata": {
        "colab": {
          "base_uri": "https://localhost:8080/"
        },
        "id": "EWEs0QJtJr5n",
        "outputId": "afb7462c-bd17-4730-c8ec-e0c12e9e2512"
      },
      "outputs": [
        {
          "output_type": "stream",
          "name": "stdout",
          "text": [
            "Epoch 1/4\n",
            "49/49 [==============================] - 4s 62ms/step - loss: 0.4477 - accuracy: 0.8217\n",
            "Epoch 2/4\n",
            "49/49 [==============================] - 3s 56ms/step - loss: 0.2554 - accuracy: 0.9088\n",
            "Epoch 3/4\n",
            "49/49 [==============================] - 2s 42ms/step - loss: 0.2000 - accuracy: 0.9274\n",
            "Epoch 4/4\n",
            "49/49 [==============================] - 1s 28ms/step - loss: 0.1668 - accuracy: 0.9405\n",
            "782/782 [==============================] - 2s 2ms/step - loss: 0.3006 - accuracy: 0.8799\n"
          ]
        }
      ],
      "source": [
        "model = models.Sequential()\n",
        "model.add(layers.Dense(16, activation='relu', input_shape=(10000,)))\n",
        "model.add(layers.Dense(16, activation='relu'))\n",
        "model.add(layers.Dense(1, activation='sigmoid'))\n",
        "model.compile(optimizer='rmsprop',\n",
        "              loss='binary_crossentropy',\n",
        "              metrics=['accuracy'])\n",
        "model.fit(x_train, y_train, epochs=4, batch_size=512)\n",
        "results = model.evaluate(x_test, y_test)"
      ]
    },
    {
      "cell_type": "code",
      "execution_count": null,
      "metadata": {
        "colab": {
          "base_uri": "https://localhost:8080/"
        },
        "id": "AyhUITpZKFGo",
        "outputId": "fbd0e227-42fd-4be1-f478-d82759e8a00c"
      },
      "outputs": [
        {
          "output_type": "execute_result",
          "data": {
            "text/plain": [
              "[0.30058494210243225, 0.8798800110816956]"
            ]
          },
          "metadata": {},
          "execution_count": 64
        }
      ],
      "source": [
        "results"
      ]
    },
    {
      "cell_type": "code",
      "execution_count": null,
      "metadata": {
        "colab": {
          "base_uri": "https://localhost:8080/"
        },
        "id": "S5QZQR72KtmL",
        "outputId": "59c052e6-ccc5-418d-d4aa-6067d46eec20"
      },
      "outputs": [
        {
          "output_type": "stream",
          "name": "stdout",
          "text": [
            "782/782 [==============================] - 2s 3ms/step\n"
          ]
        },
        {
          "output_type": "execute_result",
          "data": {
            "text/plain": [
              "array([[0.15270029],\n",
              "       [0.9998105 ],\n",
              "       [0.62638205],\n",
              "       ...,\n",
              "       [0.07857659],\n",
              "       [0.06418446],\n",
              "       [0.54617923]], dtype=float32)"
            ]
          },
          "metadata": {},
          "execution_count": 65
        }
      ],
      "source": [
        "model.predict(x_test)"
      ]
    },
    {
      "cell_type": "code",
      "source": [
        "y_test[-2]"
      ],
      "metadata": {
        "colab": {
          "base_uri": "https://localhost:8080/"
        },
        "id": "8DDCQXmgK9Yc",
        "outputId": "cfa8688c-43db-4b8d-8d6b-35b39a616ba1"
      },
      "execution_count": null,
      "outputs": [
        {
          "output_type": "execute_result",
          "data": {
            "text/plain": [
              "0.0"
            ]
          },
          "metadata": {},
          "execution_count": 70
        }
      ]
    },
    {
      "cell_type": "markdown",
      "metadata": {
        "id": "aNjTAfkrK7aO"
      },
      "source": [
        "Мы будем работать с набором данных Reuters — выборкой новостных лент и их тем, публиковавшихся агентством Reuters в 1986 году. Это простой набор данных, широко используемых для классификации текста. Существует 46 разных тем; не- которые темы более широко представлены, некоторые — менее, но для каждой из них в обучающем наборе имеется не менее 10 примеров."
      ]
    },
    {
      "cell_type": "code",
      "execution_count": null,
      "metadata": {
        "colab": {
          "base_uri": "https://localhost:8080/"
        },
        "id": "yPlUyne-K0Hf",
        "outputId": "93ae1f41-db00-4773-f588-e18a587754c4"
      },
      "outputs": [
        {
          "output_type": "stream",
          "name": "stdout",
          "text": [
            "Downloading data from https://storage.googleapis.com/tensorflow/tf-keras-datasets/reuters.npz\n",
            "2110848/2110848 [==============================] - 0s 0us/step\n"
          ]
        }
      ],
      "source": [
        "from keras.datasets import reuters\n",
        "(train_data, train_labels), (test_data, test_labels) = reuters.load_data(\n",
        "    num_words=10000)"
      ]
    },
    {
      "cell_type": "code",
      "execution_count": null,
      "metadata": {
        "colab": {
          "base_uri": "https://localhost:8080/"
        },
        "id": "-1IJdK53K-AF",
        "outputId": "f2b29fc4-d682-4ad9-865d-216067b536c3"
      },
      "outputs": [
        {
          "output_type": "stream",
          "name": "stdout",
          "text": [
            "Downloading data from https://storage.googleapis.com/tensorflow/tf-keras-datasets/reuters_word_index.json\n",
            "550378/550378 [==============================] - 0s 0us/step\n"
          ]
        }
      ],
      "source": [
        "word_index = reuters.get_word_index()\n",
        "reverse_word_index = dict([(value, key) for (key, value) in word_index.\n",
        "items()])\n",
        "decoded_newswire = ' '.join([reverse_word_index.get(i - 3, '?') for i in\n",
        "    train_data[0]])"
      ]
    },
    {
      "cell_type": "code",
      "execution_count": null,
      "metadata": {
        "id": "LNe7bWenLA31"
      },
      "outputs": [],
      "source": [
        "def vectorize_sequences(sequences, dimension=10000):\n",
        "    results = np.zeros((len(sequences), dimension))\n",
        "    for i, sequence in enumerate(sequences):\n",
        "        results[i, sequence] = 1.\n",
        "    return results\n",
        "x_train = vectorize_sequences(train_data)\n",
        "x_test = vectorize_sequences(test_data)"
      ]
    },
    {
      "cell_type": "code",
      "execution_count": null,
      "metadata": {
        "id": "xxa0hFSjLF1Z"
      },
      "outputs": [],
      "source": [
        "def to_one_hot(labels, dimension=46):\n",
        "    results = np.zeros((len(labels), dimension))\n",
        "    for i, label in enumerate(labels):\n",
        "        results[i, label] = 1.\n",
        "    return results\n",
        "one_hot_train_labels = to_one_hot(train_labels)\n",
        "one_hot_test_labels = to_one_hot(test_labels)"
      ]
    },
    {
      "cell_type": "code",
      "source": [
        "one_hot_test_labels[0]"
      ],
      "metadata": {
        "colab": {
          "base_uri": "https://localhost:8080/"
        },
        "id": "2aSdilP_LrnK",
        "outputId": "0d8b9955-db3c-48ff-abcd-7ccee5e5a1bd"
      },
      "execution_count": null,
      "outputs": [
        {
          "output_type": "execute_result",
          "data": {
            "text/plain": [
              "array([0., 0., 0., 1., 0., 0., 0., 0., 0., 0., 0., 0., 0., 0., 0., 0., 0.,\n",
              "       0., 0., 0., 0., 0., 0., 0., 0., 0., 0., 0., 0., 0., 0., 0., 0., 0.,\n",
              "       0., 0., 0., 0., 0., 0., 0., 0., 0., 0., 0., 0.])"
            ]
          },
          "metadata": {},
          "execution_count": 77
        }
      ]
    },
    {
      "cell_type": "code",
      "execution_count": null,
      "metadata": {
        "id": "MZHbB-YHLIN0"
      },
      "outputs": [],
      "source": [
        "one_hot_train_labels = to_categorical(train_labels)\n",
        "one_hot_test_labels = to_categorical(test_labels)"
      ]
    },
    {
      "cell_type": "code",
      "execution_count": null,
      "metadata": {
        "id": "rehIK7gQLKE9"
      },
      "outputs": [],
      "source": [
        "model = models.Sequential()\n",
        "model.add(layers.Dense(16, activation='relu', input_shape=(10000,)))\n",
        "model.add(layers.Dense(16, activation='relu'))\n",
        "model.add(layers.Dense(46, activation='softmax'))\n"
      ]
    },
    {
      "cell_type": "code",
      "execution_count": null,
      "metadata": {
        "id": "_4e6svmlLMnZ"
      },
      "outputs": [],
      "source": [
        "model.compile(optimizer='rmsprop',\n",
        "              loss='categorical_crossentropy',\n",
        "              metrics=['accuracy'])\n"
      ]
    },
    {
      "cell_type": "code",
      "execution_count": null,
      "metadata": {
        "id": "5q9z2aVMLOeZ"
      },
      "outputs": [],
      "source": [
        "x_val = x_train[:1000]\n",
        "partial_x_train = x_train[1000:]\n",
        "y_val = one_hot_train_labels[:1000]\n",
        "partial_y_train = one_hot_train_labels[1000:]"
      ]
    },
    {
      "cell_type": "code",
      "execution_count": null,
      "metadata": {
        "colab": {
          "base_uri": "https://localhost:8080/"
        },
        "id": "5nkvFMX3LPyj",
        "outputId": "717cf3e5-5d6c-4eea-a15f-3562be85e1d2"
      },
      "outputs": [
        {
          "output_type": "stream",
          "name": "stdout",
          "text": [
            "Epoch 1/20\n",
            "16/16 [==============================] - 1s 50ms/step - loss: 3.4639 - accuracy: 0.3545 - val_loss: 2.9967 - val_accuracy: 0.5600\n",
            "Epoch 2/20\n",
            "16/16 [==============================] - 1s 34ms/step - loss: 2.6383 - accuracy: 0.5723 - val_loss: 2.2978 - val_accuracy: 0.5800\n",
            "Epoch 3/20\n",
            "16/16 [==============================] - 1s 31ms/step - loss: 2.0287 - accuracy: 0.6084 - val_loss: 1.8677 - val_accuracy: 0.6170\n",
            "Epoch 4/20\n",
            "16/16 [==============================] - 1s 32ms/step - loss: 1.6624 - accuracy: 0.6572 - val_loss: 1.6249 - val_accuracy: 0.6480\n",
            "Epoch 5/20\n",
            "16/16 [==============================] - 1s 32ms/step - loss: 1.4374 - accuracy: 0.7008 - val_loss: 1.4835 - val_accuracy: 0.6720\n",
            "Epoch 6/20\n",
            "16/16 [==============================] - 1s 34ms/step - loss: 1.2820 - accuracy: 0.7241 - val_loss: 1.3839 - val_accuracy: 0.6930\n",
            "Epoch 7/20\n",
            "16/16 [==============================] - 1s 33ms/step - loss: 1.1635 - accuracy: 0.7412 - val_loss: 1.3115 - val_accuracy: 0.7090\n",
            "Epoch 8/20\n",
            "16/16 [==============================] - 1s 50ms/step - loss: 1.0654 - accuracy: 0.7581 - val_loss: 1.2659 - val_accuracy: 0.7160\n",
            "Epoch 9/20\n",
            "16/16 [==============================] - 1s 47ms/step - loss: 0.9836 - accuracy: 0.7726 - val_loss: 1.2229 - val_accuracy: 0.7240\n",
            "Epoch 10/20\n",
            "16/16 [==============================] - 1s 43ms/step - loss: 0.9083 - accuracy: 0.7856 - val_loss: 1.1836 - val_accuracy: 0.7350\n",
            "Epoch 11/20\n",
            "16/16 [==============================] - 1s 45ms/step - loss: 0.8415 - accuracy: 0.8017 - val_loss: 1.1566 - val_accuracy: 0.7400\n",
            "Epoch 12/20\n",
            "16/16 [==============================] - 1s 32ms/step - loss: 0.7796 - accuracy: 0.8145 - val_loss: 1.1302 - val_accuracy: 0.7570\n",
            "Epoch 13/20\n",
            "16/16 [==============================] - 0s 31ms/step - loss: 0.7213 - accuracy: 0.8332 - val_loss: 1.1086 - val_accuracy: 0.7620\n",
            "Epoch 14/20\n",
            "16/16 [==============================] - 0s 31ms/step - loss: 0.6671 - accuracy: 0.8455 - val_loss: 1.0993 - val_accuracy: 0.7610\n",
            "Epoch 15/20\n",
            "16/16 [==============================] - 1s 32ms/step - loss: 0.6177 - accuracy: 0.8586 - val_loss: 1.0786 - val_accuracy: 0.7690\n",
            "Epoch 16/20\n",
            "16/16 [==============================] - 0s 31ms/step - loss: 0.5709 - accuracy: 0.8685 - val_loss: 1.0676 - val_accuracy: 0.7760\n",
            "Epoch 17/20\n",
            "16/16 [==============================] - 0s 31ms/step - loss: 0.5267 - accuracy: 0.8779 - val_loss: 1.0661 - val_accuracy: 0.7770\n",
            "Epoch 18/20\n",
            "16/16 [==============================] - 0s 30ms/step - loss: 0.4861 - accuracy: 0.8895 - val_loss: 1.0539 - val_accuracy: 0.7800\n",
            "Epoch 19/20\n",
            "16/16 [==============================] - 0s 31ms/step - loss: 0.4492 - accuracy: 0.8958 - val_loss: 1.0562 - val_accuracy: 0.7820\n",
            "Epoch 20/20\n",
            "16/16 [==============================] - 0s 29ms/step - loss: 0.4142 - accuracy: 0.9045 - val_loss: 1.0488 - val_accuracy: 0.7870\n"
          ]
        }
      ],
      "source": [
        "history = model.fit(partial_x_train,\n",
        "                    partial_y_train,\n",
        "                    epochs=20,\n",
        "                    batch_size=512,\n",
        "                    validation_data=(x_val, y_val))"
      ]
    },
    {
      "cell_type": "code",
      "execution_count": null,
      "metadata": {
        "colab": {
          "base_uri": "https://localhost:8080/",
          "height": 295
        },
        "id": "gT1jGaJTLRqp",
        "outputId": "d3658cb3-b124-43aa-ff9f-ee48cf41bca8"
      },
      "outputs": [
        {
          "output_type": "display_data",
          "data": {
            "text/plain": [
              "<Figure size 432x288 with 1 Axes>"
            ],
            "image/png": "[encoded data removed]"
          },
          "metadata": {
            "needs_background": "light"
          }
        }
      ],
      "source": [
        "loss = history.history['loss']\n",
        "val_loss = history.history['val_loss']\n",
        "epochs = range(1, len(loss) + 1)\n",
        "plt.plot(epochs, loss, 'bo', label='Training loss')\n",
        "plt.plot(epochs, val_loss, 'b', label='Validation loss')\n",
        "plt.title('Training and validation loss')\n",
        "plt.xlabel('Epochs')\n",
        "plt.ylabel('Loss')\n",
        "plt.legend()\n",
        "plt.show()"
      ]
    },
    {
      "cell_type": "code",
      "execution_count": null,
      "metadata": {
        "colab": {
          "base_uri": "https://localhost:8080/",
          "height": 295
        },
        "id": "EXCH0nbtLTZK",
        "outputId": "6d1bcd0f-97a9-4a1e-e1ac-1d13715d3eb5"
      },
      "outputs": [
        {
          "output_type": "display_data",
          "data": {
            "text/plain": [
              "<Figure size 432x288 with 1 Axes>"
            ],
            "image/png": "[encoded data removed]"
          },
          "metadata": {
            "needs_background": "light"
          }
        }
      ],
      "source": [
        "plt.clf() \n",
        "acc = history.history['accuracy']\n",
        "val_acc = history.history['val_accuracy']\n",
        "plt.plot(epochs, acc, 'bo', label='Training acc')\n",
        "plt.plot(epochs, val_acc, 'b', label='Validation acc')\n",
        "plt.title('Training and validation accuracy')\n",
        "plt.xlabel('Epochs')\n",
        "plt.ylabel('Accuracy')\n",
        "plt.legend()\n",
        "plt.show()"
      ]
    },
    {
      "cell_type": "code",
      "execution_count": null,
      "metadata": {
        "colab": {
          "base_uri": "https://localhost:8080/"
        },
        "id": "3HIjaPaiLYQo",
        "outputId": "46da841b-81f4-4aa8-e633-f4bad2331e15"
      },
      "outputs": [
        {
          "output_type": "stream",
          "name": "stdout",
          "text": [
            "Epoch 1/9\n",
            "16/16 [==============================] - 2s 68ms/step - loss: 2.6440 - accuracy: 0.4648 - val_loss: 1.7690 - val_accuracy: 0.6290\n",
            "Epoch 2/9\n",
            "16/16 [==============================] - 1s 51ms/step - loss: 1.4653 - accuracy: 0.7003 - val_loss: 1.3221 - val_accuracy: 0.7030\n",
            "Epoch 3/9\n",
            "16/16 [==============================] - 1s 51ms/step - loss: 1.0787 - accuracy: 0.7710 - val_loss: 1.1394 - val_accuracy: 0.7530\n",
            "Epoch 4/9\n",
            "16/16 [==============================] - 1s 50ms/step - loss: 0.8425 - accuracy: 0.8185 - val_loss: 1.0439 - val_accuracy: 0.7720\n",
            "Epoch 5/9\n",
            "16/16 [==============================] - 1s 56ms/step - loss: 0.6716 - accuracy: 0.8609 - val_loss: 0.9826 - val_accuracy: 0.8100\n",
            "Epoch 6/9\n",
            "16/16 [==============================] - 1s 90ms/step - loss: 0.5346 - accuracy: 0.8933 - val_loss: 0.9324 - val_accuracy: 0.8050\n",
            "Epoch 7/9\n",
            "16/16 [==============================] - 1s 85ms/step - loss: 0.4259 - accuracy: 0.9157 - val_loss: 0.8974 - val_accuracy: 0.8060\n",
            "Epoch 8/9\n",
            "16/16 [==============================] - 1s 52ms/step - loss: 0.3480 - accuracy: 0.9297 - val_loss: 0.8958 - val_accuracy: 0.8100\n",
            "Epoch 9/9\n",
            "16/16 [==============================] - 1s 51ms/step - loss: 0.2866 - accuracy: 0.9397 - val_loss: 0.9089 - val_accuracy: 0.8080\n",
            "71/71 [==============================] - 0s 4ms/step - loss: 1.0005 - accuracy: 0.7907\n"
          ]
        }
      ],
      "source": [
        "model = models.Sequential()\n",
        "model.add(layers.Dense(64, activation='relu', input_shape=(10000,)))\n",
        "model.add(layers.Dense(64, activation='relu'))\n",
        "model.add(layers.Dense(46, activation='softmax'))\n",
        "model.compile(optimizer='rmsprop',\n",
        "              loss='categorical_crossentropy',\n",
        "              metrics=['accuracy'])\n",
        "model.fit(partial_x_train,\n",
        "          partial_y_train,\n",
        "          epochs=9,\n",
        "          batch_size=512,\n",
        "          validation_data=(x_val, y_val))\n",
        "results = model.evaluate(x_test, one_hot_test_labels)"
      ]
    },
    {
      "cell_type": "code",
      "execution_count": null,
      "metadata": {
        "colab": {
          "base_uri": "https://localhost:8080/"
        },
        "id": "Vfa855YtLiHT",
        "outputId": "1c5a87f8-b473-4532-94b0-bb0c3d34639e"
      },
      "outputs": [
        {
          "output_type": "execute_result",
          "data": {
            "text/plain": [
              "[1.0005024671554565, 0.790739119052887]"
            ]
          },
          "metadata": {},
          "execution_count": 86
        }
      ],
      "source": [
        "results"
      ]
    },
    {
      "cell_type": "code",
      "execution_count": null,
      "metadata": {
        "id": "v9FtZsw-Ls2V",
        "colab": {
          "base_uri": "https://localhost:8080/"
        },
        "outputId": "9e26e963-27da-4010-ef0d-6d57e80eca09"
      },
      "outputs": [
        {
          "output_type": "execute_result",
          "data": {
            "text/plain": [
              "array([0., 0., 0., 1., 0., 0., 0., 0., 0., 0., 0., 0., 0., 0., 0., 0., 0.,\n",
              "       0., 0., 0., 0., 0., 0., 0., 0., 0., 0., 0., 0., 0., 0., 0., 0., 0.,\n",
              "       0., 0., 0., 0., 0., 0., 0., 0., 0., 0., 0., 0.], dtype=float32)"
            ]
          },
          "metadata": {},
          "execution_count": 90
        }
      ],
      "source": [
        "one_hot_test_labels[0]"
      ]
    },
    {
      "cell_type": "code",
      "source": [
        "model.predict(x_test)[0]"
      ],
      "metadata": {
        "colab": {
          "base_uri": "https://localhost:8080/"
        },
        "id": "cu2RITXRN_GN",
        "outputId": "dbf0740a-9872-41a6-e98c-44dcee6f3fae"
      },
      "execution_count": null,
      "outputs": [
        {
          "output_type": "stream",
          "name": "stdout",
          "text": [
            "71/71 [==============================] - 1s 7ms/step\n"
          ]
        },
        {
          "output_type": "execute_result",
          "data": {
            "text/plain": [
              "array([6.03682656e-06, 8.53661113e-05, 6.45337764e-07, 9.82094288e-01,\n",
              "       1.55201564e-02, 1.85823225e-07, 2.36745200e-05, 9.83745394e-06,\n",
              "       1.11867579e-04, 4.32554589e-05, 9.71540067e-06, 1.62464727e-04,\n",
              "       4.51643318e-05, 1.21338504e-04, 8.07179822e-06, 4.69854058e-06,\n",
              "       2.52750586e-04, 8.77462662e-05, 3.60011400e-05, 1.10979454e-04,\n",
              "       3.53917741e-04, 3.22418520e-04, 1.38413043e-05, 5.53131486e-06,\n",
              "       4.09869472e-06, 4.22044723e-05, 6.94710252e-07, 2.85599441e-07,\n",
              "       3.53829491e-05, 3.85070707e-05, 3.12431424e-04, 9.30358055e-06,\n",
              "       7.77630532e-07, 1.22934289e-05, 1.86120869e-05, 1.53696362e-06,\n",
              "       3.67427929e-05, 1.18115089e-07, 1.81006703e-06, 2.69358006e-05,\n",
              "       2.13585781e-06, 8.70440272e-06, 8.99608040e-06, 4.97442716e-06,\n",
              "       2.58470368e-06, 1.09462667e-06], dtype=float32)"
            ]
          },
          "metadata": {},
          "execution_count": 89
        }
      ]
    },
    {
      "cell_type": "markdown",
      "metadata": {
        "id": "eFoLkLFvLwEB"
      },
      "source": [
        "ППопытаемся предсказать медианную цену на дома в пригороде Бостона в середине 1970-х по таким данным о пригороде того времени, как уровень преступности, ставка местного имущественного налога и т. д. Набор данных, который нам предстоит использовать, имеет интересное отличие от двух предыдущих примеров. Он содержит относительно немного образцов данных: всего 506, разбитых на 404 обучающих и 102 контрольных образца. И каждый признак во входных данных (например, уровень преступности) имеет свой масштаб. Например, некоторые признаки являются пропорциями и имеют значения между 0 и 1, другие — между 1 и 12 и т. д."
      ]
    },
    {
      "cell_type": "code",
      "execution_count": null,
      "metadata": {
        "id": "k7nxIkYRLweb"
      },
      "outputs": [],
      "source": [
        "from keras.datasets import boston_housing\n",
        "(train_data, train_targets), (test_data, test_targets) = boston_housing.load_data()"
      ]
    },
    {
      "cell_type": "code",
      "source": [
        "train_data[0]"
      ],
      "metadata": {
        "colab": {
          "base_uri": "https://localhost:8080/"
        },
        "id": "QnSw0hxIOqW5",
        "outputId": "314aa2f5-e6d4-4cf9-8b30-badd95709555"
      },
      "execution_count": null,
      "outputs": [
        {
          "output_type": "execute_result",
          "data": {
            "text/plain": [
              "array([-0.27224633, -0.48361547, -0.43576161, -0.25683275, -0.1652266 ,\n",
              "       -0.1764426 ,  0.81306188,  0.1166983 , -0.62624905, -0.59517003,\n",
              "        1.14850044,  0.44807713,  0.8252202 ])"
            ]
          },
          "metadata": {},
          "execution_count": 97
        }
      ]
    },
    {
      "cell_type": "code",
      "source": [
        "train_targets[0]"
      ],
      "metadata": {
        "colab": {
          "base_uri": "https://localhost:8080/"
        },
        "id": "x4SOajIxOvn0",
        "outputId": "f77efd0b-7012-40fa-894c-c516428c39a1"
      },
      "execution_count": null,
      "outputs": [
        {
          "output_type": "execute_result",
          "data": {
            "text/plain": [
              "15.2"
            ]
          },
          "metadata": {},
          "execution_count": 98
        }
      ]
    },
    {
      "cell_type": "code",
      "execution_count": null,
      "metadata": {
        "id": "Y3NoKUA3Lxux"
      },
      "outputs": [],
      "source": [
        "mean = train_data.mean(axis=0)\n",
        "train_data -= mean\n",
        "std = train_data.std(axis=0)\n",
        "train_data /= std\n",
        "test_data -= mean\n",
        "test_data /= std"
      ]
    },
    {
      "cell_type": "code",
      "execution_count": null,
      "metadata": {
        "id": "3dzfxTH3MaaC"
      },
      "outputs": [],
      "source": [
        "def build_model():\n",
        "    model = models.Sequential()\n",
        "    model.add(layers.Dense(64, activation='relu',\n",
        "                           input_shape=(train_data.shape[1],)))\n",
        "    model.add(layers.Dense(64, activation='relu'))\n",
        "    model.add(layers.Dense(1))\n",
        "    model.compile(optimizer='rmsprop', loss='mse', metrics=['mae'])\n",
        "    return model"
      ]
    },
    {
      "cell_type": "markdown",
      "source": [
        "Чтобы оценить качество сети в ходе корректировки ее параметров (таких, как количество эпох обучения), можно разбить исходные данные на обучающий и проверочный наборы, как это делалось в предыдущих примерах. Однако так как у нас и без того небольшой набор данных, проверочный набор получился бы слишком маленьким (скажем, что-нибудь около 100 образцов). Как следствие, оценки при проверке могут сильно меняться в зависимости от того, какие данные попадут в проверочный и обучающий наборы: оценки при проверке могут иметь слишком большой разброс. Это не позволит надежно оценить качество модели.\n",
        "\n",
        "Лучшей практикой в таких ситуациях является применение перекрестной проверки по K блокам (K-fold cross-validation).\n",
        "![Снимок экрана 2023-02-08 в 11.05.34.png](data:image/png;base64,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)\n",
        "\n"
      ],
      "metadata": {
        "id": "OBtHmSuKDGrq"
      }
    },
    {
      "cell_type": "code",
      "execution_count": null,
      "metadata": {
        "colab": {
          "base_uri": "https://localhost:8080/"
        },
        "id": "QeV14gTnMbw0",
        "outputId": "8d915ff2-0478-4b4e-f22d-3433cce5dc2a"
      },
      "outputs": [
        {
          "output_type": "stream",
          "name": "stdout",
          "text": [
            "processing fold # 0\n",
            "processing fold # 1\n",
            "processing fold # 2\n",
            "processing fold # 3\n"
          ]
        }
      ],
      "source": [
        "k= 4\n",
        "num_val_samples = len(train_data) // k \n",
        "num_epochs = 100\n",
        "all_scores = []\n",
        "for i in range(k):\n",
        "    print('processing fold #', i)\n",
        "    val_data = train_data[i * num_val_samples: (i + 1) * num_val_samples]\n",
        "    val_targets = train_targets[i * num_val_samples: (i + 1)\n",
        "              * num_val_samples]\n",
        "    partial_train_data = np.concatenate(\n",
        "    [train_data[:i * num_val_samples],\n",
        "     train_data[(i + 1) * num_val_samples:]],\n",
        "    axis=0)\n",
        "    partial_train_targets = np.concatenate(\n",
        "    [train_targets[:i * num_val_samples],\n",
        "     train_targets[(i + 1) * num_val_samples:]],\n",
        "    axis=0)\n",
        "    model = build_model()\n",
        "    model.fit(partial_train_data, partial_train_targets,\n",
        "                  epochs=num_epochs, batch_size=1, verbose=0)\n",
        "    val_mse, val_mae = model.evaluate(val_data, val_targets, verbose=0)\n",
        "    all_scores.append(val_mae)"
      ]
    },
    {
      "cell_type": "code",
      "execution_count": null,
      "metadata": {
        "colab": {
          "base_uri": "https://localhost:8080/"
        },
        "id": "AMO9tnEOS49-",
        "outputId": "9875cc0c-d89b-4ec4-d826-0f1ba83d8779"
      },
      "outputs": [
        {
          "output_type": "execute_result",
          "data": {
            "text/plain": [
              "[11.516331672668457, 2.5055413246154785]"
            ]
          },
          "metadata": {},
          "execution_count": 102
        }
      ],
      "source": [
        "model.evaluate(val_data, val_targets, verbose=0)"
      ]
    },
    {
      "cell_type": "code",
      "execution_count": null,
      "metadata": {
        "colab": {
          "base_uri": "https://localhost:8080/"
        },
        "id": "qcaMTb-KM276",
        "outputId": "4675e6f7-4e02-4add-e0b1-c9482f2eea1e"
      },
      "outputs": [
        {
          "output_type": "execute_result",
          "data": {
            "text/plain": [
              "[1.9982718229293823, 2.714320421218872, 2.676541805267334, 2.5055413246154785]"
            ]
          },
          "metadata": {},
          "execution_count": 103
        }
      ],
      "source": [
        "all_scores"
      ]
    },
    {
      "cell_type": "code",
      "execution_count": null,
      "metadata": {
        "colab": {
          "base_uri": "https://localhost:8080/"
        },
        "id": "ZffwbvstNAzT",
        "outputId": "c8e7d372-2b9e-4e20-a66f-9716ddcc3eef"
      },
      "outputs": [
        {
          "output_type": "stream",
          "name": "stdout",
          "text": [
            "processing fold # 0\n",
            "processing fold # 1\n",
            "processing fold # 2\n",
            "processing fold # 3\n"
          ]
        }
      ],
      "source": [
        "num_epochs = 25\n",
        "all_mae_histories = []\n",
        "for i in range(k):\n",
        "  print('processing fold #', i)\n",
        "  val_data = train_data[i * num_val_samples: (i + 1) * num_val_samples]\n",
        "  val_targets = train_targets[i * num_val_samples:\n",
        "              (i + 1) * num_val_samples]\n",
        "  partial_train_data = np.concatenate(\n",
        "    [train_data[:i * num_val_samples],\n",
        "     train_data[(i + 1) * num_val_samples:]],\n",
        "    axis=0)\n",
        "  partial_train_targets = np.concatenate(\n",
        "    [train_targets[:i * num_val_samples],\n",
        "     train_targets[(i + 1) * num_val_samples:]],\n",
        "    axis=0)\n",
        "  model = build_model()\n",
        "  history = model.fit(partial_train_data, partial_train_targets,\n",
        "                    validation_data=(val_data, val_targets),\n",
        "                    epochs=num_epochs, batch_size=1, verbose=0)\n",
        "  mae_history = history.history['val_mae']\n",
        "  all_mae_histories.append(mae_history)\n"
      ]
    },
    {
      "cell_type": "code",
      "execution_count": null,
      "metadata": {
        "id": "4J5W8LdjRLY5"
      },
      "outputs": [],
      "source": [
        "average_mae_history = [\n",
        "    np.mean([x[i] for x in all_mae_histories]) for i in range(num_epochs)]"
      ]
    },
    {
      "cell_type": "code",
      "execution_count": null,
      "metadata": {
        "colab": {
          "base_uri": "https://localhost:8080/",
          "height": 279
        },
        "id": "_6Z35vP8RSsD",
        "outputId": "7897c7a3-c38b-47a1-fc51-881b010b263d"
      },
      "outputs": [
        {
          "output_type": "display_data",
          "data": {
            "text/plain": [
              "<Figure size 432x288 with 1 Axes>"
            ],
            "image/png": "[encoded data removed]"
          },
          "metadata": {
            "needs_background": "light"
          }
        }
      ],
      "source": [
        "import matplotlib.pyplot as plt\n",
        "plt.plot(range(1, len(average_mae_history) + 1), average_mae_history)\n",
        "plt.xlabel('Epochs')\n",
        "plt.ylabel('Validation MAE')\n",
        "plt.show()"
      ]
    },
    {
      "cell_type": "code",
      "execution_count": null,
      "metadata": {
        "colab": {
          "base_uri": "https://localhost:8080/"
        },
        "id": "sDJIAZ5sRdHc",
        "outputId": "4069ab99-d004-4808-f4bb-43e63192b4d0"
      },
      "outputs": [
        {
          "output_type": "stream",
          "name": "stdout",
          "text": [
            "4/4 [==============================] - 0s 4ms/step - loss: 18.3592 - mae: 2.6739\n"
          ]
        },
        {
          "output_type": "execute_result",
          "data": {
            "text/plain": [
              "2.6738879680633545"
            ]
          },
          "metadata": {},
          "execution_count": 110
        }
      ],
      "source": [
        "model = build_model()\n",
        "model.fit(train_data, train_targets,epochs=80, batch_size=16, verbose=0)\n",
        "test_mse_score, test_mae_score = model.evaluate(test_data, test_targets)\n",
        "test_mae_score"
      ]
    },
    {
      "cell_type": "code",
      "execution_count": null,
      "metadata": {
        "id": "y6RFOfXpWnz4"
      },
      "outputs": [],
      "source": []
    }
  ],
  "metadata": {
    "colab": {
      "provenance": [],
      "authorship_tag": "ABX9TyO+LBumlPTOdlcN2igQp6SX",
      "include_colab_link": true
    },
    "kernelspec": {
      "display_name": "Python 3",
      "name": "python3"
    },
    "language_info": {
      "name": "python"
    }
  },
  "nbformat": 4,
  "nbformat_minor": 0
}