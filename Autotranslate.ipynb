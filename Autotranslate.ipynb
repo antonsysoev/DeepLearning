{
  "cells": [
    {
      "cell_type": "markdown",
      "metadata": {
        "id": "view-in-github",
        "colab_type": "text"
      },
      "source": [
        "<a href=\"https://colab.research.google.com/github/antonsysoev/DeepLearning/blob/main/Autotranslate.ipynb\" target=\"_parent\"><img src=\"https://colab.research.google.com/assets/colab-badge.svg\" alt=\"Open In Colab\"/></a>"
      ]
    },
    {
      "cell_type": "markdown",
      "metadata": {
        "id": "WHajPZLA0K-O"
      },
      "source": [
        "# seq2seq модели \n"
      ]
    },
    {
      "cell_type": "code",
      "execution_count": 27,
      "metadata": {
        "colab": {
          "base_uri": "https://localhost:8080/"
        },
        "id": "GT1nEKpy0K-S",
        "outputId": "36269e4f-c7fa-4532-ba17-f5c6022c8277"
      },
      "outputs": [
        {
          "output_type": "stream",
          "name": "stdout",
          "text": [
            "2.11.0\n"
          ]
        }
      ],
      "source": [
        "import matplotlib.pyplot as plt\n",
        "\n",
        "import re\n",
        "import numpy as np\n",
        "import os\n",
        "import time\n",
        "\n",
        "import tensorflow as tf\n",
        "print(tf.__version__)"
      ]
    },
    {
      "cell_type": "markdown",
      "metadata": {
        "id": "EoNDt82K0K-U"
      },
      "source": [
        "# 1. Подготовка даных \n",
        "\n",
        "Мы будем использовать датасет переводов из базы данных http://www.manythings.org/anki/. Кроме всего прочего, можно найти подобные датасеты среди [стенограмм ООН](https://catalog.ldc.upenn.edu/LDC2013T06) и [Европейского союза.](http://www.statmt.org/europarl/) \n",
        "\n",
        "Скачаем датасет `rus-eng.zip` и положим его рядом с питоновской тетрадкой."
      ]
    },
    {
      "cell_type": "code",
      "execution_count": 28,
      "metadata": {
        "colab": {
          "base_uri": "https://localhost:8080/"
        },
        "id": "HodoVRgV0K-U",
        "outputId": "9b147c3d-88b1-4fb5-9ae5-5fe515d37e28"
      },
      "outputs": [
        {
          "output_type": "stream",
          "name": "stdout",
          "text": [
            "--2023-03-23 17:08:48--  http://www.manythings.org/anki/rus-eng.zip\n",
            "Resolving www.manythings.org (www.manythings.org)... 173.254.30.110\n",
            "Connecting to www.manythings.org (www.manythings.org)|173.254.30.110|:80... connected.\n",
            "HTTP request sent, awaiting response... 200 OK\n",
            "Length: 15374406 (15M) [application/zip]\n",
            "Saving to: ‘rus-eng.zip’\n",
            "\n",
            "rus-eng.zip         100%[===================>]  14.66M  8.53MB/s    in 1.7s    \n",
            "\n",
            "2023-03-23 17:08:50 (8.53 MB/s) - ‘rus-eng.zip’ saved [15374406/15374406]\n",
            "\n"
          ]
        }
      ],
      "source": [
        "!wget http://www.manythings.org/anki/rus-eng.zip"
      ]
    },
    {
      "cell_type": "code",
      "execution_count": 29,
      "metadata": {
        "colab": {
          "base_uri": "https://localhost:8080/"
        },
        "id": "Jp6ilEy10K-V",
        "outputId": "b74c6851-503e-457a-fec9-1f53e8f1d7b6"
      },
      "outputs": [
        {
          "output_type": "stream",
          "name": "stdout",
          "text": [
            "Archive:  rus-eng.zip\n",
            "replace rus.txt? [y]es, [n]o, [A]ll, [N]one, [r]ename: A\n",
            "  inflating: rus.txt                 \n",
            "  inflating: _about.txt              \n"
          ]
        }
      ],
      "source": [
        "!unzip rus-eng.zip"
      ]
    },
    {
      "cell_type": "code",
      "execution_count": 30,
      "metadata": {
        "id": "Jho-e51S0K-W"
      },
      "outputs": [],
      "source": [
        "!rm rus-eng.zip"
      ]
    },
    {
      "cell_type": "code",
      "execution_count": 31,
      "metadata": {
        "colab": {
          "base_uri": "https://localhost:8080/"
        },
        "id": "dGznINks0K-W",
        "outputId": "e7da685d-78e3-4410-c4c9-e7f9f3ef13ef"
      },
      "outputs": [
        {
          "output_type": "stream",
          "name": "stdout",
          "text": [
            "_about.txt  rus.txt  sample_data  training_checkpoints\n"
          ]
        }
      ],
      "source": [
        "!ls"
      ]
    },
    {
      "cell_type": "code",
      "execution_count": 32,
      "metadata": {
        "colab": {
          "base_uri": "https://localhost:8080/"
        },
        "id": "jyDhBbWG0K-W",
        "outputId": "b9a6b2c5-fbd2-44dd-818a-7d952eb5cf73"
      },
      "outputs": [
        {
          "output_type": "stream",
          "name": "stdout",
          "text": [
            "Go.\tМарш!\tCC-BY 2.0 (France) Attribution: tatoeba.org #2877272 (CM) & #1159202 (shanghainese)\n",
            "Go.\tИди.\tCC-BY 2.0 (France) Attribution: tatoeba.org #2877272 (CM) & #5898247 (marafon)\n",
            "Go.\tИдите.\tCC-BY 2.0 (France) Attribution: tatoeba.org #2877272 (CM) & #5898250 (marafon)\n",
            "Hi.\tЗдравствуйте.\tCC-BY 2.0 (France) Attribution: tatoeba.org #538123 (CM) & #402127 (odexed)\n",
            "Hi.\tПривет!\tCC-BY 2.0 (France) Attribution: tatoeba.org #538123 (CM) & #466968 (katjka)\n",
            "Hi.\tХай.\tCC-BY 2.0 (France) Attribution: tatoeba.org #538123 (CM) & #467233 (timsa)\n",
            "Hi.\tЗдрасте.\tCC-BY 2.0 (France) Attribution: tatoeba.org #538123 (CM) & #3803577 (marafon)\n",
            "Hi.\tЗдоро́во!\tCC-BY 2.0 (France) Attribution: tatoeba.org #538123 (CM) & #3854188 (marafon)\n",
            "Hi.\tПриветик!\tCC-BY 2.0 (France) Attribution: tatoeba.org #538123 (CM) & #7234283 (marafon)\n",
            "Run!\tБеги!\tCC-BY 2.0 (France) Attribution: tatoeba.org #906328 (papabear) & #1569978 (Biga)\n"
          ]
        }
      ],
      "source": [
        "!head rus.txt "
      ]
    },
    {
      "cell_type": "markdown",
      "metadata": {
        "id": "FeXeJpU20K-W"
      },
      "source": [
        "Внутри файла `rus.txt` лежат пары для перевода в формате: \n",
        "\n",
        "```\n",
        "Get down!\tЛяг на пол!\n",
        "```\n",
        "\n",
        "Нам нужно предобработать датасет. Поступим с ним следующим образом:\n",
        "\n",
        "- Добавим токены `<start>` и `<end>`, сигнализирующие о начале и конце предложения. \n",
        "- Отделим знаки препинания от основного текста.\n",
        "\n",
        "Например, строка `'Run!\tБеги!'` должна превратиться в `'<start> run ! <end>', '<start> беги ! <end>'`."
      ]
    },
    {
      "cell_type": "code",
      "execution_count": 33,
      "metadata": {
        "id": "6D8Om1QQ0K-X"
      },
      "outputs": [],
      "source": [
        "def preprocess_sentence(w):\n",
        "    \"\"\"\n",
        "        Функция для предобработки \n",
        "    \"\"\"\n",
        "    \n",
        "    # уменьшаем регистр и убираем лишние пробелы\n",
        "    w = w.lower().strip()\n",
        "\n",
        "    # делаем между словом и знаком пунктуации отступ 'привет! -> привет !'\n",
        "    w = re.sub(r\"([?.!,])\", r\" \\1 \", w)\n",
        "    w = re.sub(r'[\" \"]+', \" \", w)\n",
        "    \n",
        "    # выкидываем все остальные символы из рассмотрения \n",
        "    w = re.sub(r\"[^a-яА-Яa-zA-Z?.!,]+\", \" \", w)\n",
        "    w = w.rstrip().strip()\n",
        "    \n",
        "    # добавляем токены для начала и конца предложения\n",
        "    w = '<start> ' + w + ' <end>'\n",
        "    return w\n",
        "\n",
        "\n",
        "def create_dataset(path, num_examples):\n",
        "    \"\"\"\n",
        "        Функция, которая создаёт датасет\n",
        "    \"\"\"\n",
        "    lines = open(path).read().strip().split('\\n')\n",
        "    \n",
        "    word_pairs = [[preprocess_sentence(w)\n",
        "                   for w in l.split('CC-BY 2.0')[0].strip().split('\\t')]  for l in lines[:num_examples]]\n",
        "    \n",
        "    return word_pairs"
      ]
    },
    {
      "cell_type": "code",
      "execution_count": 34,
      "metadata": {
        "colab": {
          "base_uri": "https://localhost:8080/"
        },
        "id": "gVHw-DNv0K-X",
        "outputId": "309d6408-e814-4a44-c731-0a66265f30ee"
      },
      "outputs": [
        {
          "output_type": "execute_result",
          "data": {
            "text/plain": [
              "[['<start> go . <end>', '<start> марш ! <end>'],\n",
              " ['<start> go . <end>', '<start> иди . <end>'],\n",
              " ['<start> go . <end>', '<start> идите . <end>'],\n",
              " ['<start> hi . <end>', '<start> здравствуйте . <end>'],\n",
              " ['<start> hi . <end>', '<start> привет ! <end>'],\n",
              " ['<start> hi . <end>', '<start> хай . <end>'],\n",
              " ['<start> hi . <end>', '<start> здрасте . <end>'],\n",
              " ['<start> hi . <end>', '<start> здоро́во ! <end>'],\n",
              " ['<start> hi . <end>', '<start> приветик ! <end>'],\n",
              " ['<start> run ! <end>', '<start> беги ! <end>']]"
            ]
          },
          "metadata": {},
          "execution_count": 34
        }
      ],
      "source": [
        "# Пример работы предобработчика :3 \n",
        "create_dataset('rus.txt', 10)"
      ]
    },
    {
      "cell_type": "markdown",
      "metadata": {
        "id": "cYJWgzEA0K-Y"
      },
      "source": [
        "- Создадим два словарика вида `id -> word` и `word -> id`. Напишем для этой затеи удобный класс. "
      ]
    },
    {
      "cell_type": "code",
      "execution_count": 35,
      "metadata": {
        "id": "wGR4T3Ln0K-Y"
      },
      "outputs": [],
      "source": [
        "class LanguageIndex():\n",
        "    \"\"\"\n",
        "        Класс для строительства мапинга \n",
        "            индекс -> слово и слово -> индекс\n",
        "        для каждого из языков \n",
        "    \"\"\"\n",
        "    def __init__(self, lang):\n",
        "        self.lang = lang\n",
        "        self.word2idx = {}\n",
        "        self.idx2word = {}\n",
        "        self.vocab = set()\n",
        "        self.create_index()\n",
        "        \n",
        "    def create_index(self):\n",
        "        for phrase in self.lang:\n",
        "            self.vocab.update(phrase.split(' '))\n",
        "\n",
        "        self.vocab = sorted(self.vocab)\n",
        "\n",
        "        self.word2idx['<pad>'] = 0\n",
        "        for index, word in enumerate(self.vocab):\n",
        "            self.word2idx[word] = index + 1\n",
        "\n",
        "        for word, index in self.word2idx.items():\n",
        "            self.idx2word[index] = word\n"
      ]
    },
    {
      "cell_type": "markdown",
      "metadata": {
        "id": "P5zVMctn0K-Z"
      },
      "source": [
        "- Осталось выравнять все тексты в батче, пришедшем к нам на вход до одной длины. Сделаем Padding всех предложений к одной длине с помощью фиктивного символа. "
      ]
    },
    {
      "cell_type": "code",
      "execution_count": 36,
      "metadata": {
        "id": "kk743ks00K-Z"
      },
      "outputs": [],
      "source": [
        "def get_max_length(tensor):\n",
        "    \"\"\"\n",
        "        Максимальная длина предложения в тензоре \n",
        "    \"\"\"\n",
        "    return max(len(t) for t in tensor)\n",
        "\n",
        "\n",
        "def load_dataset(path, num_examples):\n",
        "    \"\"\"\n",
        "        Функция, которая полностью готовит данные для сетки \n",
        "    \"\"\"\n",
        "    \n",
        "    # подгрузка данных и их предобработка \n",
        "    pairs = create_dataset(path, num_examples)\n",
        "\n",
        "    # создаём два экземпляра со словарями и индексами \n",
        "    inp_lang = LanguageIndex(ru for en, ru in pairs)\n",
        "    targ_lang = LanguageIndex(en for en, ru in pairs)\n",
        "    \n",
        "    # Векторизуем данные в соотвествии с нашими классами \n",
        "    # Русские предложения\n",
        "    input_tensor = [[inp_lang.word2idx[s] for s in ru.split(' ')] for en, ru in pairs]\n",
        "    \n",
        "    # Английские предложения\n",
        "    target_tensor = [[targ_lang.word2idx[s] for s in en.split(' ')] for en, ru in pairs]\n",
        "    \n",
        "    # Находим максимальные длинны для каждого языка\n",
        "    max_length_inp, max_length_tar = get_max_length(input_tensor), get_max_length(target_tensor)\n",
        "    \n",
        "    # Заполняем у всех других предложений пропуски падингами до максимальной длины \n",
        "    input_tensor = tf.keras.preprocessing.sequence.pad_sequences(input_tensor, \n",
        "                                                                 maxlen=max_length_inp,\n",
        "                                                                 padding='post')\n",
        "    \n",
        "    target_tensor = tf.keras.preprocessing.sequence.pad_sequences(target_tensor, \n",
        "                                                                  maxlen=max_length_tar, \n",
        "                                                                  padding='post')\n",
        "    \n",
        "    return input_tensor, target_tensor, inp_lang, targ_lang, max_length_inp, max_length_tar"
      ]
    },
    {
      "cell_type": "markdown",
      "metadata": {
        "id": "O85AGjiW0K-a"
      },
      "source": [
        "Для того, чтобы эксперимент с обучением нейронной сетки прошёл побыстрее, ограничимся корпусом из $30000$ предложений. В домашних условиях вы можете попробовать обучить модель на всём корпусе."
      ]
    },
    {
      "cell_type": "code",
      "execution_count": 37,
      "metadata": {
        "id": "DRpDbhW10K-a"
      },
      "outputs": [],
      "source": [
        "from sklearn.model_selection import train_test_split\n"
      ]
    },
    {
      "cell_type": "code",
      "execution_count": 38,
      "metadata": {
        "id": "_bQ-H5sk0K-a"
      },
      "outputs": [],
      "source": [
        "path_to_file = '/content/rus.txt'\n",
        "num_examples = 30000\n",
        "\n",
        "input_tensor, target_tensor, inp_lang, targ_lang, \\\n",
        "    max_length_inp, max_length_targ = load_dataset(path_to_file, num_examples)"
      ]
    },
    {
      "cell_type": "code",
      "execution_count": 39,
      "metadata": {
        "colab": {
          "base_uri": "https://localhost:8080/"
        },
        "id": "QzTel7rY0K-b",
        "outputId": "b9576522-e96c-4d00-efff-7d161b578e25"
      },
      "outputs": [
        {
          "output_type": "execute_result",
          "data": {
            "text/plain": [
              "array([[   5, 3483,    1, ...,    0,    0,    0],\n",
              "       [   5, 2661,    3, ...,    0,    0,    0],\n",
              "       [   5, 2670,    3, ...,    0,    0,    0],\n",
              "       ...,\n",
              "       [   5, 6618, 3608, ...,    0,    0,    0],\n",
              "       [   5, 6619, 3608, ...,    0,    0,    0],\n",
              "       [   5, 6618, 3608, ...,    0,    0,    0]], dtype=int32)"
            ]
          },
          "metadata": {},
          "execution_count": 39
        }
      ],
      "source": [
        "input_tensor # вход! "
      ]
    },
    {
      "cell_type": "code",
      "execution_count": 40,
      "metadata": {
        "colab": {
          "base_uri": "https://localhost:8080/"
        },
        "id": "DpyNjTkb0K-b",
        "outputId": "e5c3bc4c-eb27-4e12-958f-516a34058843"
      },
      "outputs": [
        {
          "output_type": "execute_result",
          "data": {
            "text/plain": [
              "array([[   5, 1332,    3, ...,    0,    0,    0],\n",
              "       [   5, 1332,    3, ...,    0,    0,    0],\n",
              "       [   5, 1332,    3, ...,    0,    0,    0],\n",
              "       ...,\n",
              "       [   5,  428, 1909, ...,    4,    0,    0],\n",
              "       [   5,  428, 1909, ...,    4,    0,    0],\n",
              "       [   5,  428, 1909, ...,    4,    0,    0]], dtype=int32)"
            ]
          },
          "metadata": {},
          "execution_count": 40
        }
      ],
      "source": [
        "target_tensor # выход!"
      ]
    },
    {
      "cell_type": "code",
      "execution_count": 41,
      "metadata": {
        "colab": {
          "base_uri": "https://localhost:8080/"
        },
        "id": "25337gxf0K-b",
        "outputId": "15bd264b-e0c0-46d4-a424-13c55495496c"
      },
      "outputs": [
        {
          "output_type": "execute_result",
          "data": {
            "text/plain": [
              "(12, 9)"
            ]
          },
          "metadata": {},
          "execution_count": 41
        }
      ],
      "source": [
        "max_length_inp, max_length_targ"
      ]
    },
    {
      "cell_type": "code",
      "execution_count": 42,
      "metadata": {
        "colab": {
          "base_uri": "https://localhost:8080/"
        },
        "id": "2KqYLe5N0K-b",
        "outputId": "9b1727d8-cd86-4eed-9d29-3b4928a6cdb3"
      },
      "outputs": [
        {
          "output_type": "execute_result",
          "data": {
            "text/plain": [
              "(24000, 24000, 6000, 6000)"
            ]
          },
          "metadata": {},
          "execution_count": 42
        }
      ],
      "source": [
        "# Дробим выборку на тренировочную и тестовую \n",
        "input_tensor_train, input_tensor_val, \\\n",
        "target_tensor_train, target_tensor_val = train_test_split(input_tensor, target_tensor, test_size=0.2)\n",
        "\n",
        "# Show length\n",
        "len(input_tensor_train), len(target_tensor_train), len(input_tensor_val), len(target_tensor_val)"
      ]
    },
    {
      "cell_type": "markdown",
      "metadata": {
        "id": "uS6cBsy80K-c"
      },
      "source": [
        "Отлично! Осталя последний штрих."
      ]
    },
    {
      "cell_type": "code",
      "execution_count": 43,
      "metadata": {
        "id": "mVtM_GN30K-c"
      },
      "outputs": [],
      "source": [
        "BUFFER_SIZE = len(input_tensor_train)\n",
        "BATCH_SIZE = 64\n",
        "N_BATCH = BUFFER_SIZE // BATCH_SIZE\n",
        "\n",
        "embedding_dim = 256\n",
        "units = 1024\n",
        "\n",
        "vocab_inp_size = len(inp_lang.word2idx)\n",
        "vocab_tar_size = len(targ_lang.word2idx)\n",
        "\n",
        "dataset = tf.data.Dataset.from_tensor_slices((input_tensor_train, target_tensor_train)).shuffle(BUFFER_SIZE)\n",
        "dataset = dataset.batch(BATCH_SIZE, drop_remainder=True)\n"
      ]
    },
    {
      "cell_type": "code",
      "execution_count": 44,
      "metadata": {
        "colab": {
          "base_uri": "https://localhost:8080/"
        },
        "id": "9qtOmhnn0K-c",
        "outputId": "d322b1c4-9550-41e2-db89-4ff8e431352a"
      },
      "outputs": [
        {
          "output_type": "execute_result",
          "data": {
            "text/plain": [
              "<BatchDataset element_spec=(TensorSpec(shape=(64, 12), dtype=tf.int32, name=None), TensorSpec(shape=(64, 9), dtype=tf.int32, name=None))>"
            ]
          },
          "metadata": {},
          "execution_count": 44
        }
      ],
      "source": [
        "dataset"
      ]
    },
    {
      "cell_type": "markdown",
      "metadata": {
        "id": "hEnGv0dF0K-c"
      },
      "source": [
        "# 2. Архитектура сетки\n",
        "\n",
        "Давайте реализуем автокодировщик с вниманием. \n",
        "\n",
        "<img src=\"https://raw.githubusercontent.com/tensorflow/nmt/master/nmt/g3doc/img/encdec.jpg\" width=\"500\" alt=\"attention mechanism\">\n",
        "\n",
        "Более подробно, каждая часть - рекурентная сетка: \n",
        "\n",
        "<img src=\"https://raw.githubusercontent.com/tensorflow/nmt/master/nmt/g3doc/img/seq2seq.jpg\" width=\"500\" alt=\"attention mechanism\">\n",
        "\n",
        "Применение: \n",
        "\n",
        "<img src=\"https://raw.githubusercontent.com/tensorflow/nmt/master/nmt/g3doc/img/greedy_dec.jpg\" width=\"350\" alt=\"attention mechanism\">"
      ]
    },
    {
      "cell_type": "markdown",
      "metadata": {
        "id": "6Pmq9UhG0K-d"
      },
      "source": [
        "Вариант архитектуры с вниманием: \n",
        "\n",
        "<img src=\"https://www.tensorflow.org/images/seq2seq/attention_mechanism.jpg\" width=\"500\" alt=\"attention mechanism\">"
      ]
    },
    {
      "cell_type": "markdown",
      "metadata": {
        "id": "4MJbKhih0K-d"
      },
      "source": [
        "Каждое предложение на входе трансформируется в скрытое представление, по которому сетка пытается построить такое же предложение на другом языке."
      ]
    },
    {
      "cell_type": "code",
      "execution_count": 45,
      "metadata": {
        "id": "SUKfcvbW0K-d"
      },
      "outputs": [],
      "source": [
        "# как отдельная функция, чтобы ваше внимание обратить\n",
        "def gru(units):\n",
        "    \"\"\"\n",
        "        GRU-ячейка \n",
        "    \"\"\"\n",
        "    return tf.keras.layers.GRU(units, \n",
        "                               return_sequences=True, \n",
        "                               return_state=True, \n",
        "                               recurrent_activation='sigmoid', \n",
        "                               recurrent_initializer='glorot_uniform')"
      ]
    },
    {
      "cell_type": "code",
      "execution_count": 46,
      "metadata": {
        "id": "UEWszmhA0K-e"
      },
      "outputs": [],
      "source": [
        "class Encoder(tf.keras.Model):\n",
        "    \"\"\"\n",
        "        Наш энкодер \n",
        "    \"\"\"\n",
        "    \n",
        "    def __init__(self, vocab_size, embedding_dim, enc_units, batch_sz):\n",
        "        super(Encoder, self).__init__()\n",
        "        self.batch_sz = batch_sz\n",
        "        self.enc_units = enc_units\n",
        "        \n",
        "        # фактически мы будем учит на входе эмбединг\n",
        "        self.embedding = tf.keras.layers.Embedding(vocab_size, embedding_dim)\n",
        "        self.gru = gru(self.enc_units)\n",
        "        \n",
        "    def call(self, x, hidden):\n",
        "        x = self.embedding(x)\n",
        "        \n",
        "        # а после к этому эмбедингу применять рекурентность\n",
        "        output, state = self.gru(x, initial_state = hidden)        \n",
        "        return output, state\n",
        "    \n",
        "    def initialize_hidden_state(self):\n",
        "        return tf.zeros((self.batch_sz, self.enc_units))"
      ]
    },
    {
      "cell_type": "code",
      "execution_count": 47,
      "metadata": {
        "id": "ll8F6EHJ0K-e"
      },
      "outputs": [],
      "source": [
        "class Decoder(tf.keras.Model):\n",
        "    \"\"\"\n",
        "        Наш декодер\n",
        "    \"\"\"\n",
        "    \n",
        "    def __init__(self, vocab_size, embedding_dim, dec_units, batch_sz):\n",
        "        super(Decoder, self).__init__()\n",
        "        self.batch_sz = batch_sz\n",
        "        self.dec_units = dec_units\n",
        "        self.embedding = tf.keras.layers.Embedding(vocab_size, embedding_dim)\n",
        "        self.gru = gru(self.dec_units)\n",
        "        self.fc = tf.keras.layers.Dense(vocab_size)\n",
        "        \n",
        "        # Веса для внимания\n",
        "        self.W1 = tf.keras.layers.Dense(self.dec_units)\n",
        "        self.W2 = tf.keras.layers.Dense(self.dec_units)\n",
        "        self.V = tf.keras.layers.Dense(1)\n",
        "        \n",
        "    def call(self, x, hidden, enc_output):\n",
        "        # enc_output shape == (batch_size, max_length, hidden_size)\n",
        "        \n",
        "        # hidden shape == (batch_size, hidden size)\n",
        "        # hidden_with_time_axis shape == (batch_size, 1, hidden size)\n",
        "        # we are doing this to perform addition to calculate the score\n",
        "        hidden_with_time_axis = tf.expand_dims(hidden, 1)\n",
        "        \n",
        "        # score shape == (batch_size, max_length, 1)\n",
        "        # we get 1 at the last axis because we are applying tanh(FC(EO) + FC(H)) to self.V\n",
        "        score = self.V(tf.nn.tanh(self.W1(enc_output) + self.W2(hidden_with_time_axis)))\n",
        "        \n",
        "        # attention_weights shape == (batch_size, max_length, 1)\n",
        "        attention_weights = tf.nn.softmax(score, axis=1)\n",
        "        \n",
        "        # context_vector shape after sum == (batch_size, hidden_size)\n",
        "        context_vector = attention_weights * enc_output\n",
        "        context_vector = tf.reduce_sum(context_vector, axis=1)\n",
        "        \n",
        "        # x shape after passing through embedding == (batch_size, 1, embedding_dim)\n",
        "        x = self.embedding(x)\n",
        "        \n",
        "        # x shape after concatenation == (batch_size, 1, embedding_dim + hidden_size)\n",
        "        x = tf.concat([tf.expand_dims(context_vector, 1), x], axis=-1)\n",
        "        \n",
        "        # passing the concatenated vector to the GRU\n",
        "        output, state = self.gru(x)\n",
        "        \n",
        "        # output shape == (batch_size * 1, hidden_size)\n",
        "        output = tf.reshape(output, (-1, output.shape[2]))\n",
        "        \n",
        "        # output shape == (batch_size * 1, vocab)\n",
        "        x = self.fc(output)\n",
        "        \n",
        "        return x, state, attention_weights\n",
        "        \n",
        "    def initialize_hidden_state(self):\n",
        "        return tf.zeros((self.batch_sz, self.dec_units))"
      ]
    },
    {
      "cell_type": "code",
      "execution_count": 48,
      "metadata": {
        "id": "thW4M8h-0K-f"
      },
      "outputs": [],
      "source": [
        "# Объединяем две сетки в одну цельную архитектуру \n",
        "encoder = Encoder(vocab_inp_size, embedding_dim, units, BATCH_SIZE)\n",
        "decoder = Decoder(vocab_tar_size, embedding_dim, units, BATCH_SIZE)"
      ]
    },
    {
      "cell_type": "markdown",
      "metadata": {
        "id": "hR4VgY3k0K-f"
      },
      "source": [
        "Теперь оптимизатор и функция потерь."
      ]
    },
    {
      "cell_type": "code",
      "execution_count": 49,
      "metadata": {
        "id": "-pUKggho0K-f"
      },
      "outputs": [],
      "source": [
        "optimizer = tf.optimizers.Adam()  # АДАМ для градиентного спуска \n",
        "\n",
        "# В качестве функции потерь будет обычная кросс-энтропия на все наши классы (слова)\n",
        "def loss_function(real, pred):\n",
        "    mask = 1 - np.equal(real, 0)\n",
        "    loss_ = tf.nn.sparse_softmax_cross_entropy_with_logits(labels=real, logits=pred) * mask\n",
        "    return tf.reduce_mean(loss_)"
      ]
    },
    {
      "cell_type": "markdown",
      "metadata": {
        "id": "EDBPWF8l0K-g"
      },
      "source": [
        "Заведём специальную директорию для автосохранений по мере обучения. Комп может зависать и вырубаться, а прогресс терять на очень хочется. "
      ]
    },
    {
      "cell_type": "code",
      "execution_count": 50,
      "metadata": {
        "id": "fVcg_8c20K-g"
      },
      "outputs": [],
      "source": [
        "checkpoint_dir = './training_checkpoints'\n",
        "\n",
        "checkpoint_prefix = os.path.join(checkpoint_dir, \"ckpt\")\n",
        "\n",
        "checkpoint = tf.train.Checkpoint(optimizer=optimizer,\n",
        "                                 encoder=encoder,\n",
        "                                 decoder=decoder)"
      ]
    },
    {
      "cell_type": "markdown",
      "metadata": {
        "id": "5-d7ca2G0K-g"
      },
      "source": [
        "# 3. Обучение \n",
        "\n",
        "1. Прокручиваем *input* через  энкодер, получаем *encoder output* и *encoder hidden state*.\n",
        "2. Прогоняем через декодер *encoder output*, *encoder hidden state* и *decoder input* \n",
        "3. Декодер нам выдаёт *predictions*\n",
        "4. Расчитываем logloss, градиенты и делаем backprop"
      ]
    },
    {
      "cell_type": "code",
      "execution_count": 51,
      "metadata": {
        "colab": {
          "base_uri": "https://localhost:8080/"
        },
        "id": "nHp0x7tu0K-h",
        "outputId": "bdbb89ea-8d4c-4cfa-bfa7-db458619d098"
      },
      "outputs": [
        {
          "output_type": "stream",
          "name": "stdout",
          "text": [
            "Epoch 1 Batch 0 Loss 4.8903\n",
            "Epoch 1 Batch 100 Loss 2.1594\n",
            "Epoch 1 Batch 200 Loss 1.7919\n",
            "Epoch 1 Batch 300 Loss 1.4100\n",
            "Epoch 1 Loss 1.8846\n",
            "Time taken for 1 epoch 1521.9286661148071 sec\n",
            "\n",
            "Epoch 2 Batch 0 Loss 1.3914\n",
            "Epoch 2 Batch 100 Loss 1.2759\n",
            "Epoch 2 Batch 200 Loss 1.1604\n",
            "Epoch 2 Batch 300 Loss 1.1384\n",
            "Epoch 2 Loss 1.2099\n",
            "Time taken for 1 epoch 1446.1637716293335 sec\n",
            "\n"
          ]
        }
      ],
      "source": [
        "EPOCHS = 2\n",
        "\n",
        "for epoch in range(EPOCHS):\n",
        "    start = time.time()\n",
        "    \n",
        "    hidden = encoder.initialize_hidden_state()\n",
        "    total_loss = 0\n",
        "    \n",
        "    for (batch, (inp, targ)) in enumerate(dataset):\n",
        "        loss = 0\n",
        "        \n",
        "        with tf.GradientTape() as tape:\n",
        "            enc_output, enc_hidden = encoder(inp, hidden)\n",
        "            \n",
        "            dec_hidden = enc_hidden\n",
        "            \n",
        "            dec_input = tf.expand_dims([targ_lang.word2idx['<start>']] * BATCH_SIZE, 1)       \n",
        "            \n",
        "            for t in range(1, targ.shape[1]):\n",
        "                predictions, dec_hidden, _ = decoder(dec_input, dec_hidden, enc_output)\n",
        "                \n",
        "                loss += loss_function(targ[:, t], predictions)\n",
        "                \n",
        "                dec_input = tf.expand_dims(targ[:, t], 1)\n",
        "        \n",
        "        batch_loss = (loss / int(targ.shape[1]))\n",
        "        \n",
        "        total_loss += batch_loss\n",
        "        \n",
        "        variables = encoder.variables + decoder.variables\n",
        "        \n",
        "        gradients = tape.gradient(loss, variables)\n",
        "        \n",
        "        optimizer.apply_gradients(zip(gradients, variables))\n",
        "        \n",
        "        if batch % 100 == 0:\n",
        "            print('Epoch {} Batch {} Loss {:.4f}'.format(epoch + 1,\n",
        "                                                         batch,\n",
        "                                                         batch_loss.numpy()))\n",
        "    # saving (checkpoint) the model every 2 epochs\n",
        "    if (epoch + 1) % 2 == 0:\n",
        "        checkpoint.save(file_prefix = checkpoint_prefix)\n",
        "    \n",
        "    print('Epoch {} Loss {:.4f}'.format(epoch + 1,\n",
        "                                        total_loss / N_BATCH))\n",
        "    print('Time taken for 1 epoch {} sec\\n'.format(time.time() - start))"
      ]
    },
    {
      "cell_type": "markdown",
      "metadata": {
        "id": "uLBYOxEn0K-i"
      },
      "source": [
        "# 4. Переводим "
      ]
    },
    {
      "cell_type": "code",
      "execution_count": 52,
      "metadata": {
        "id": "u2DmDosm0K-i"
      },
      "outputs": [],
      "source": [
        "def evaluate(sentence, encoder, decoder, inp_lang, targ_lang, max_length_inp, max_length_targ):\n",
        "    attention_plot = np.zeros((max_length_targ, max_length_inp))\n",
        "    \n",
        "    sentence = preprocess_sentence(sentence)\n",
        "\n",
        "    inputs = [inp_lang.word2idx[i] for i in sentence.split(' ')]\n",
        "    inputs = tf.keras.preprocessing.sequence.pad_sequences([inputs], maxlen=max_length_inp, padding='post')\n",
        "    inputs = tf.convert_to_tensor(inputs)\n",
        "    \n",
        "    result = ''\n",
        "\n",
        "    hidden = [tf.zeros((1, units))]\n",
        "    enc_out, enc_hidden = encoder(inputs, hidden)\n",
        "\n",
        "    dec_hidden = enc_hidden\n",
        "    dec_input = tf.expand_dims([targ_lang.word2idx['<start>']], 0)\n",
        "\n",
        "    for t in range(max_length_targ):\n",
        "        predictions, dec_hidden, attention_weights = decoder(dec_input, dec_hidden, enc_out)\n",
        "        \n",
        "        # storing the attention weights to plot later on\n",
        "        attention_weights = tf.reshape(attention_weights, (-1, ))\n",
        "        attention_plot[t] = attention_weights.numpy()\n",
        "\n",
        "        predicted_id = tf.argmax(predictions[0]).numpy()\n",
        "\n",
        "        result += targ_lang.idx2word[predicted_id] + ' '\n",
        "\n",
        "        if targ_lang.idx2word[predicted_id] == '<end>':\n",
        "            return result, sentence, attention_plot\n",
        "        \n",
        "        # the predicted ID is fed back into the model\n",
        "        dec_input = tf.expand_dims([predicted_id], 0)\n",
        "\n",
        "    return result, sentence, attention_plot"
      ]
    },
    {
      "cell_type": "code",
      "execution_count": 53,
      "metadata": {
        "id": "8eabRdsi0K-i"
      },
      "outputs": [],
      "source": [
        "# function for plotting the attention weights\n",
        "def plot_attention(attention, sentence, predicted_sentence):\n",
        "    fig = plt.figure(figsize=(10,10))\n",
        "    ax = fig.add_subplot(1, 1, 1)\n",
        "    ax.matshow(attention, cmap='viridis')\n",
        "    \n",
        "    fontdict = {'fontsize': 14}\n",
        "    \n",
        "    ax.set_xticklabels([''] + sentence, fontdict=fontdict, rotation=90)\n",
        "    ax.set_yticklabels([''] + predicted_sentence, fontdict=fontdict)\n",
        "\n",
        "    plt.show()"
      ]
    },
    {
      "cell_type": "code",
      "execution_count": 54,
      "metadata": {
        "id": "Yzpv7oP60K-i"
      },
      "outputs": [],
      "source": [
        "def translate(sentence, encoder, decoder, inp_lang, targ_lang, max_length_inp, max_length_targ):\n",
        "    result, sentence, attention_plot = evaluate(sentence, encoder, decoder, inp_lang, targ_lang, max_length_inp, max_length_targ)\n",
        "        \n",
        "    print('Input: {}'.format(sentence))\n",
        "    print('Predicted translation: {}'.format(result))\n",
        "    \n",
        "    attention_plot = attention_plot[:len(result.split(' ')), :len(sentence.split(' '))]\n",
        "    plot_attention(attention_plot, sentence.split(' '), result.split(' '))"
      ]
    },
    {
      "cell_type": "markdown",
      "metadata": {
        "id": "xYjRJHkC0K-j"
      },
      "source": [
        "Восстанавливаем последний чекпойнт и тестируем модель. "
      ]
    },
    {
      "cell_type": "code",
      "execution_count": 55,
      "metadata": {
        "colab": {
          "base_uri": "https://localhost:8080/"
        },
        "id": "1XV2ZZOc0K-j",
        "outputId": "045f93d0-242b-4b84-ba17-7320cc3a785f"
      },
      "outputs": [
        {
          "output_type": "execute_result",
          "data": {
            "text/plain": [
              "<tensorflow.python.checkpoint.checkpoint.CheckpointLoadStatus at 0x7fc665fd2910>"
            ]
          },
          "metadata": {},
          "execution_count": 55
        }
      ],
      "source": [
        "# restoring the latest checkpoint in checkpoint_dir\n",
        "checkpoint.restore(tf.train.latest_checkpoint(checkpoint_dir))"
      ]
    },
    {
      "cell_type": "code",
      "execution_count": 60,
      "metadata": {
        "colab": {
          "base_uri": "https://localhost:8080/",
          "height": 743
        },
        "id": "UupXuqUi0K-j",
        "outputId": "637970b4-ce3d-4295-f3d1-5992a4370fea"
      },
      "outputs": [
        {
          "output_type": "stream",
          "name": "stdout",
          "text": [
            "Input: <start> я люблю тебя <end>\n",
            "Predicted translation: i love you . <end> \n"
          ]
        },
        {
          "output_type": "stream",
          "name": "stderr",
          "text": [
            "<ipython-input-53-219babc300ac>:9: UserWarning: FixedFormatter should only be used together with FixedLocator\n",
            "  ax.set_xticklabels([''] + sentence, fontdict=fontdict, rotation=90)\n",
            "<ipython-input-53-219babc300ac>:10: UserWarning: FixedFormatter should only be used together with FixedLocator\n",
            "  ax.set_yticklabels([''] + predicted_sentence, fontdict=fontdict)\n"
          ]
        },
        {
          "output_type": "display_data",
          "data": {
            "text/plain": [
              "<Figure size 720x720 with 1 Axes>"
            ],
            "image/png": "[encoded data removed]"
          },
          "metadata": {
            "needs_background": "light"
          }
        }
      ],
      "source": [
        "translate('Я люблю тебя', encoder, decoder, inp_lang, targ_lang, max_length_inp, max_length_targ)"
      ]
    },
    {
      "cell_type": "code",
      "execution_count": 57,
      "metadata": {
        "colab": {
          "base_uri": "https://localhost:8080/",
          "height": 678
        },
        "id": "rVbNailK0K-k",
        "outputId": "496e282d-600a-42df-e3f0-a10d6d783a7b"
      },
      "outputs": [
        {
          "output_type": "stream",
          "name": "stdout",
          "text": [
            "Input: <start> я правда люблю тебя . <end>\n",
            "Predicted translation: i love you . <end> \n"
          ]
        },
        {
          "output_type": "stream",
          "name": "stderr",
          "text": [
            "<ipython-input-53-219babc300ac>:9: UserWarning: FixedFormatter should only be used together with FixedLocator\n",
            "  ax.set_xticklabels([''] + sentence, fontdict=fontdict, rotation=90)\n",
            "<ipython-input-53-219babc300ac>:10: UserWarning: FixedFormatter should only be used together with FixedLocator\n",
            "  ax.set_yticklabels([''] + predicted_sentence, fontdict=fontdict)\n"
          ]
        },
        {
          "output_type": "display_data",
          "data": {
            "text/plain": [
              "<Figure size 720x720 with 1 Axes>"
            ],
            "image/png": "[encoded data removed]"
          },
          "metadata": {
            "needs_background": "light"
          }
        }
      ],
      "source": [
        "translate('Я правда люблю тебя.', encoder, decoder, inp_lang, targ_lang, max_length_inp, max_length_targ)"
      ]
    },
    {
      "cell_type": "code",
      "execution_count": 58,
      "metadata": {
        "colab": {
          "base_uri": "https://localhost:8080/",
          "height": 618
        },
        "id": "dnwzJeaf0K-k",
        "outputId": "344a595d-d36b-466a-9cc0-6fafd1d78146"
      },
      "outputs": [
        {
          "output_type": "stream",
          "name": "stdout",
          "text": [
            "Input: <start> я люблю тебя , правда . <end>\n",
            "Predicted translation: i love you . <end> \n"
          ]
        },
        {
          "output_type": "stream",
          "name": "stderr",
          "text": [
            "<ipython-input-53-219babc300ac>:9: UserWarning: FixedFormatter should only be used together with FixedLocator\n",
            "  ax.set_xticklabels([''] + sentence, fontdict=fontdict, rotation=90)\n",
            "<ipython-input-53-219babc300ac>:10: UserWarning: FixedFormatter should only be used together with FixedLocator\n",
            "  ax.set_yticklabels([''] + predicted_sentence, fontdict=fontdict)\n"
          ]
        },
        {
          "output_type": "display_data",
          "data": {
            "text/plain": [
              "<Figure size 720x720 with 1 Axes>"
            ],
            "image/png": "[encoded data removed]"
          },
          "metadata": {
            "needs_background": "light"
          }
        }
      ],
      "source": [
        "translate('Я люблю тебя, правда.', encoder, decoder, inp_lang, targ_lang, max_length_inp, max_length_targ)"
      ]
    },
    {
      "cell_type": "code",
      "execution_count": 59,
      "metadata": {
        "colab": {
          "base_uri": "https://localhost:8080/",
          "height": 747
        },
        "id": "weX70GMo0K-k",
        "outputId": "066cfa75-7967-4222-be94-00b397ce3bcb"
      },
      "outputs": [
        {
          "output_type": "stream",
          "name": "stdout",
          "text": [
            "Input: <start> ты правда меня любишь ? <end>\n",
            "Predicted translation: do you hear me ? <end> \n"
          ]
        },
        {
          "output_type": "stream",
          "name": "stderr",
          "text": [
            "<ipython-input-53-219babc300ac>:9: UserWarning: FixedFormatter should only be used together with FixedLocator\n",
            "  ax.set_xticklabels([''] + sentence, fontdict=fontdict, rotation=90)\n",
            "<ipython-input-53-219babc300ac>:10: UserWarning: FixedFormatter should only be used together with FixedLocator\n",
            "  ax.set_yticklabels([''] + predicted_sentence, fontdict=fontdict)\n"
          ]
        },
        {
          "output_type": "display_data",
          "data": {
            "text/plain": [
              "<Figure size 720x720 with 1 Axes>"
            ],
            "image/png": "[encoded data removed]"
          },
          "metadata": {
            "needs_background": "light"
          }
        }
      ],
      "source": [
        "# wrong translation\n",
        "translate('Ты правда меня любишь?', encoder, decoder, inp_lang, targ_lang, max_length_inp, max_length_targ)"
      ]
    },
    {
      "cell_type": "code",
      "execution_count": null,
      "metadata": {
        "id": "pe4GB0ybpahM"
      },
      "outputs": [],
      "source": []
    }
  ],
  "metadata": {
    "colab": {
      "provenance": [],
      "include_colab_link": true
    },
    "kernelspec": {
      "display_name": "Python 3",
      "language": "python",
      "name": "python3"
    },
    "language_info": {
      "codemirror_mode": {
        "name": "ipython",
        "version": 3
      },
      "file_extension": ".py",
      "mimetype": "text/x-python",
      "name": "python",
      "nbconvert_exporter": "python",
      "pygments_lexer": "ipython3",
      "version": "3.9.7"
    },
    "varInspector": {
      "cols": {
        "lenName": 16,
        "lenType": 16,
        "lenVar": 40
      },
      "kernels_config": {
        "python": {
          "delete_cmd_postfix": "",
          "delete_cmd_prefix": "del ",
          "library": "var_list.py",
          "varRefreshCmd": "print(var_dic_list())"
        },
        "r": {
          "delete_cmd_postfix": ") ",
          "delete_cmd_prefix": "rm(",
          "library": "var_list.r",
          "varRefreshCmd": "cat(var_dic_list()) "
        }
      },
      "types_to_exclude": [
        "module",
        "function",
        "builtin_function_or_method",
        "instance",
        "_Feature"
      ],
      "window_display": false
    }
  },
  "nbformat": 4,
  "nbformat_minor": 0
}